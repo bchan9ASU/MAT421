{
 "cells": [
  {
   "cell_type": "markdown",
   "id": "ce12ebdd",
   "metadata": {},
   "source": [
    "# Polynomial Interpolation Methods"
   ]
  },
  {
   "cell_type": "markdown",
   "id": "09124349",
   "metadata": {},
   "source": [
    "\n",
    "## Overview\n",
    "Interpolation is a technique used to estimate unknown values between known data points. \n",
    "This notebook explores two common interpolation methods:\n",
    "\n",
    "- **Lagrange Polynomial Interpolation**: Constructs a single polynomial that passes through all given data points.\n",
    "- **Newton's Divided Difference Interpolation**: Uses a more efficient iterative approach to compute coefficients.\n",
    "\n",
    "Each method is implemented and visualized to demonstrate its behavior.\n"
   ]
  },
  {
   "cell_type": "code",
   "execution_count": 3,
   "id": "458fb4e5",
   "metadata": {},
   "outputs": [
    {
     "ename": "OSError",
     "evalue": "'seaborn-poster' is not a valid package style, path of style file, URL of style file, or library style name (library styles are listed in `style.available`)",
     "output_type": "error",
     "traceback": [
      "\u001b[1;31m---------------------------------------------------------------------------\u001b[0m",
      "\u001b[1;31mFileNotFoundError\u001b[0m                         Traceback (most recent call last)",
      "File \u001b[1;32m~\\anaconda3\\Lib\\site-packages\\matplotlib\\style\\core.py:137\u001b[0m, in \u001b[0;36muse\u001b[1;34m(style)\u001b[0m\n\u001b[0;32m    136\u001b[0m \u001b[38;5;28;01mtry\u001b[39;00m:\n\u001b[1;32m--> 137\u001b[0m     style \u001b[38;5;241m=\u001b[39m _rc_params_in_file(style)\n\u001b[0;32m    138\u001b[0m \u001b[38;5;28;01mexcept\u001b[39;00m \u001b[38;5;167;01mOSError\u001b[39;00m \u001b[38;5;28;01mas\u001b[39;00m err:\n",
      "File \u001b[1;32m~\\anaconda3\\Lib\\site-packages\\matplotlib\\__init__.py:866\u001b[0m, in \u001b[0;36m_rc_params_in_file\u001b[1;34m(fname, transform, fail_on_error)\u001b[0m\n\u001b[0;32m    865\u001b[0m rc_temp \u001b[38;5;241m=\u001b[39m {}\n\u001b[1;32m--> 866\u001b[0m \u001b[38;5;28;01mwith\u001b[39;00m _open_file_or_url(fname) \u001b[38;5;28;01mas\u001b[39;00m fd:\n\u001b[0;32m    867\u001b[0m     \u001b[38;5;28;01mtry\u001b[39;00m:\n",
      "File \u001b[1;32m~\\anaconda3\\Lib\\contextlib.py:137\u001b[0m, in \u001b[0;36m_GeneratorContextManager.__enter__\u001b[1;34m(self)\u001b[0m\n\u001b[0;32m    136\u001b[0m \u001b[38;5;28;01mtry\u001b[39;00m:\n\u001b[1;32m--> 137\u001b[0m     \u001b[38;5;28;01mreturn\u001b[39;00m \u001b[38;5;28mnext\u001b[39m(\u001b[38;5;28mself\u001b[39m\u001b[38;5;241m.\u001b[39mgen)\n\u001b[0;32m    138\u001b[0m \u001b[38;5;28;01mexcept\u001b[39;00m \u001b[38;5;167;01mStopIteration\u001b[39;00m:\n",
      "File \u001b[1;32m~\\anaconda3\\Lib\\site-packages\\matplotlib\\__init__.py:843\u001b[0m, in \u001b[0;36m_open_file_or_url\u001b[1;34m(fname)\u001b[0m\n\u001b[0;32m    842\u001b[0m fname \u001b[38;5;241m=\u001b[39m os\u001b[38;5;241m.\u001b[39mpath\u001b[38;5;241m.\u001b[39mexpanduser(fname)\n\u001b[1;32m--> 843\u001b[0m \u001b[38;5;28;01mwith\u001b[39;00m \u001b[38;5;28mopen\u001b[39m(fname, encoding\u001b[38;5;241m=\u001b[39m\u001b[38;5;124m'\u001b[39m\u001b[38;5;124mutf-8\u001b[39m\u001b[38;5;124m'\u001b[39m) \u001b[38;5;28;01mas\u001b[39;00m f:\n\u001b[0;32m    844\u001b[0m     \u001b[38;5;28;01myield\u001b[39;00m f\n",
      "\u001b[1;31mFileNotFoundError\u001b[0m: [Errno 2] No such file or directory: 'seaborn-poster'",
      "\nThe above exception was the direct cause of the following exception:\n",
      "\u001b[1;31mOSError\u001b[0m                                   Traceback (most recent call last)",
      "Cell \u001b[1;32mIn[3], line 5\u001b[0m\n\u001b[0;32m      2\u001b[0m \u001b[38;5;28;01mimport\u001b[39;00m \u001b[38;5;21;01mmatplotlib\u001b[39;00m\u001b[38;5;21;01m.\u001b[39;00m\u001b[38;5;21;01mpyplot\u001b[39;00m \u001b[38;5;28;01mas\u001b[39;00m \u001b[38;5;21;01mplt\u001b[39;00m\n\u001b[0;32m      3\u001b[0m \u001b[38;5;28;01mfrom\u001b[39;00m \u001b[38;5;21;01mscipy\u001b[39;00m\u001b[38;5;21;01m.\u001b[39;00m\u001b[38;5;21;01minterpolate\u001b[39;00m \u001b[38;5;28;01mimport\u001b[39;00m lagrange\n\u001b[1;32m----> 5\u001b[0m plt\u001b[38;5;241m.\u001b[39mstyle\u001b[38;5;241m.\u001b[39muse(\u001b[38;5;124m'\u001b[39m\u001b[38;5;124mseaborn-poster\u001b[39m\u001b[38;5;124m'\u001b[39m)\n",
      "File \u001b[1;32m~\\anaconda3\\Lib\\site-packages\\matplotlib\\style\\core.py:139\u001b[0m, in \u001b[0;36muse\u001b[1;34m(style)\u001b[0m\n\u001b[0;32m    137\u001b[0m         style \u001b[38;5;241m=\u001b[39m _rc_params_in_file(style)\n\u001b[0;32m    138\u001b[0m     \u001b[38;5;28;01mexcept\u001b[39;00m \u001b[38;5;167;01mOSError\u001b[39;00m \u001b[38;5;28;01mas\u001b[39;00m err:\n\u001b[1;32m--> 139\u001b[0m         \u001b[38;5;28;01mraise\u001b[39;00m \u001b[38;5;167;01mOSError\u001b[39;00m(\n\u001b[0;32m    140\u001b[0m             \u001b[38;5;124mf\u001b[39m\u001b[38;5;124m\"\u001b[39m\u001b[38;5;132;01m{\u001b[39;00mstyle\u001b[38;5;132;01m!r}\u001b[39;00m\u001b[38;5;124m is not a valid package style, path of style \u001b[39m\u001b[38;5;124m\"\u001b[39m\n\u001b[0;32m    141\u001b[0m             \u001b[38;5;124mf\u001b[39m\u001b[38;5;124m\"\u001b[39m\u001b[38;5;124mfile, URL of style file, or library style name (library \u001b[39m\u001b[38;5;124m\"\u001b[39m\n\u001b[0;32m    142\u001b[0m             \u001b[38;5;124mf\u001b[39m\u001b[38;5;124m\"\u001b[39m\u001b[38;5;124mstyles are listed in `style.available`)\u001b[39m\u001b[38;5;124m\"\u001b[39m) \u001b[38;5;28;01mfrom\u001b[39;00m \u001b[38;5;21;01merr\u001b[39;00m\n\u001b[0;32m    143\u001b[0m filtered \u001b[38;5;241m=\u001b[39m {}\n\u001b[0;32m    144\u001b[0m \u001b[38;5;28;01mfor\u001b[39;00m k \u001b[38;5;129;01min\u001b[39;00m style:  \u001b[38;5;66;03m# don't trigger RcParams.__getitem__('backend')\u001b[39;00m\n",
      "\u001b[1;31mOSError\u001b[0m: 'seaborn-poster' is not a valid package style, path of style file, URL of style file, or library style name (library styles are listed in `style.available`)"
     ]
    }
   ],
   "source": [
    "\n",
    "import numpy as np\n",
    "import matplotlib.pyplot as plt\n",
    "from scipy.interpolate import lagrange\n",
    "\n",
    "plt.style.use('ggplot')\n"
   ]
  },
  {
   "cell_type": "markdown",
   "id": "29631fe5",
   "metadata": {},
   "source": [
    "\n",
    "## Lagrange Polynomial Interpolation\n",
    "The **Lagrange interpolation polynomial** is given by:\n",
    "\\[ P_n(x) = \\sum_{i=0}^{n} y_i L_i(x) \\]\n",
    "where each **Lagrange basis polynomial** is defined as:\n",
    "\\[ L_i(x) = \\prod_{j=0, j\\neq i}^{n} \\frac{x - x_j}{x_i - x_j} \\]\n",
    "\n",
    "This method ensures that the polynomial exactly interpolates the given data points.\n"
   ]
  },
  {
   "cell_type": "code",
   "execution_count": null,
   "id": "7eec0040",
   "metadata": {},
   "outputs": [],
   "source": [
    "\n",
    "# Given data points\n",
    "x = np.array([0, 1, 2, 3, 4])\n",
    "y = np.array([1, 3, 2, 5, 4])\n",
    "\n",
    "# Lagrange interpolation using SciPy\n",
    "lagrange_poly = lagrange(x, y)\n",
    "\n",
    "# Generate x values for interpolation\n",
    "x_new = np.linspace(-1, 5, 100)\n",
    "y_new = lagrange_poly(x_new)\n",
    "\n",
    "# Plot results\n",
    "plt.figure(figsize=(8, 6))\n",
    "plt.plot(x, y, 'ro', label='Known Data Points')\n",
    "plt.plot(x_new, y_new, 'b-', label='Lagrange Interpolation')\n",
    "plt.xlabel('x')\n",
    "plt.ylabel('y')\n",
    "plt.title('Lagrange Polynomial Interpolation')\n",
    "plt.legend()\n",
    "plt.grid()\n",
    "plt.show()\n"
   ]
  },
  {
   "cell_type": "markdown",
   "id": "4cf8b140",
   "metadata": {},
   "source": [
    "\n",
    "## Newton’s Polynomial Interpolation\n",
    "Newton's interpolation constructs a polynomial using **divided differences**, which allows for incremental computation.\n",
    "\n",
    "The general form is:\n",
    "\\[ P_n(x) = f[x_0] + f[x_0, x_1](x - x_0) + f[x_0, x_1, x_2](x - x_0)(x - x_1) + ... \\]\n",
    "\n",
    "where the **divided differences** are calculated as:\n",
    "\\[ f[x_i, x_{i+1}] = \\frac{f(x_{i+1}) - f(x_i)}{x_{i+1} - x_i} \\]\n",
    "\n",
    "This method is particularly useful for adding new points without recomputing previous values.\n"
   ]
  },
  {
   "cell_type": "code",
   "execution_count": null,
   "id": "f5e59f34",
   "metadata": {},
   "outputs": [],
   "source": [
    "\n",
    "def divided_differences(x, y):\n",
    "    \"\"\"Compute the divided difference coefficients.\"\"\"\n",
    "    n = len(y)\n",
    "    coef = np.zeros([n, n])\n",
    "    coef[:, 0] = y\n",
    "\n",
    "    for j in range(1, n):\n",
    "        for i in range(n - j):\n",
    "            coef[i][j] = (coef[i+1][j-1] - coef[i][j-1]) / (x[i+j] - x[i])\n",
    "    \n",
    "    return coef[0]\n",
    "\n",
    "def newton_interpolation(x, y, x_val):\n",
    "    \"\"\"Evaluate the Newton interpolating polynomial.\"\"\"\n",
    "    coeffs = divided_differences(x, y)\n",
    "    n = len(coeffs)\n",
    "    result = coeffs[0]\n",
    "    term = 1\n",
    "    \n",
    "    for i in range(1, n):\n",
    "        term *= (x_val - x[i-1])\n",
    "        result += coeffs[i] * term\n",
    "    return result\n",
    "\n",
    "# Compute interpolated values\n",
    "x_values_newton = np.linspace(-1, 5, 100)\n",
    "y_values_newton = [newton_interpolation(x, y, val) for val in x_values_newton]\n",
    "\n",
    "# Plot results\n",
    "plt.figure(figsize=(8, 6))\n",
    "plt.plot(x, y, 'ro', label='Known Data Points')\n",
    "plt.plot(x_values_newton, y_values_newton, 'g--', label=\"Newton's Interpolation\")\n",
    "plt.xlabel('x')\n",
    "plt.ylabel('y')\n",
    "plt.title(\"Newton's Polynomial Interpolation\")\n",
    "plt.legend()\n",
    "plt.grid()\n",
    "plt.show()\n"
   ]
  },
  {
   "cell_type": "markdown",
   "id": "0a42676f",
   "metadata": {},
   "source": [
    "\n",
    "## Summary\n",
    "- **Lagrange interpolation** constructs a single polynomial that passes through all given points.\n",
    "- **Newton’s method** uses divided differences, making it efficient for adding new data points.\n",
    "- **SciPy’s `lagrange` function** provides a convenient way to compute Lagrange polynomials.\n",
    "\n",
    "Both methods have their advantages depending on the computational needs.\n"
   ]
  }
 ],
 "metadata": {
  "kernelspec": {
   "display_name": "Python 3 (ipykernel)",
   "language": "python",
   "name": "python3"
  },
  "language_info": {
   "codemirror_mode": {
    "name": "ipython",
    "version": 3
   },
   "file_extension": ".py",
   "mimetype": "text/x-python",
   "name": "python",
   "nbconvert_exporter": "python",
   "pygments_lexer": "ipython3",
   "version": "3.12.4"
  }
 },
 "nbformat": 4,
 "nbformat_minor": 5
}
