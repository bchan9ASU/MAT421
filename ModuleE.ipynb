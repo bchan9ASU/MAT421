{
  "nbformat": 4,
  "nbformat_minor": 0,
  "metadata": {
    "colab": {
      "provenance": [],
      "authorship_tag": "ABX9TyMD5EEQc7rcfvlveq+Kl4Rx",
      "include_colab_link": true
    },
    "kernelspec": {
      "name": "python3",
      "display_name": "Python 3"
    },
    "language_info": {
      "name": "python"
    }
  },
  "cells": [
    {
      "cell_type": "markdown",
      "metadata": {
        "id": "view-in-github",
        "colab_type": "text"
      },
      "source": [
        "<a href=\"https://colab.research.google.com/github/bchan9ASU/MAT421/blob/main/ModuleE.ipynb\" target=\"_parent\"><img src=\"https://colab.research.google.com/assets/colab-badge.svg\" alt=\"Open In Colab\"/></a>"
      ]
    },
    {
      "cell_type": "markdown",
      "source": [
        "## Topics Covered\n",
        "- **Continuity and Differentiation**\n",
        "- **Taylor Theorem**\n",
        "- **Optimization with Gradient Descent**"
      ],
      "metadata": {
        "id": "UmByXmPaPyRS"
      }
    },
    {
      "cell_type": "code",
      "source": [
        "import numpy as np\n",
        "import matplotlib.pyplot as plt\n",
        "from sympy import symbols, diff, limit"
      ],
      "metadata": {
        "id": "_5HYSjwaSo3g"
      },
      "execution_count": 2,
      "outputs": []
    },
    {
      "cell_type": "markdown",
      "source": [
        "## 1. Continuity and Differentiation\n",
        "\n",
        "### Definition\n",
        "A function *f(x)* is **continuous** at *x=a* if:  \n",
        "\\[\n",
        "\\lim_{x \\to a} f(x) = f(a)\n",
        "\\]\n",
        "\n",
        "A function is **differentiable** at *x=a* if the derivative exists:  \n",
        "\\[\n",
        "f'(a) = \\lim_{h \\to 0} \\frac{f(a+h) - f(a)}{h}\n",
        "\\]\n",
        "\n",
        "### Example  \n",
        "Checking the continuity and differentiability of  \n",
        "\\[\n",
        "f(x) = x^2 - 4x + 3\n",
        "\\]  \n",
        "at \\(x=2\\).\n"
      ],
      "metadata": {
        "id": "x1QIQNkzSkP_"
      }
    },
    {
      "cell_type": "code",
      "execution_count": 3,
      "metadata": {
        "colab": {
          "base_uri": "https://localhost:8080/"
        },
        "id": "PX8Lj5nePjnD",
        "outputId": "9b04b97e-ec8b-41fa-83cb-c82d8012ff7d"
      },
      "outputs": [
        {
          "output_type": "execute_result",
          "data": {
            "text/plain": [
              "(-1, -1, -1, 0)"
            ]
          },
          "metadata": {},
          "execution_count": 3
        }
      ],
      "source": [
        "# Define function\n",
        "x = symbols('x')\n",
        "f = x**2 - 4*x + 3\n",
        "\n",
        "# Compute limits for continuity at x = 2\n",
        "left_limit = limit(f, x, 2, dir='-')\n",
        "right_limit = limit(f, x, 2, dir='+')\n",
        "f_value = f.subs(x, 2)\n",
        "\n",
        "# Compute derivative for differentiability\n",
        "f_derivative = diff(f, x)\n",
        "f_prime_at_2 = f_derivative.subs(x, 2)\n",
        "\n",
        "# Display results\n",
        "left_limit, right_limit, f_value, f_prime_at_2\n"
      ]
    },
    {
      "cell_type": "markdown",
      "source": [
        "## 2. Taylor Theorem\n",
        "\n",
        "### Definition\n",
        "Taylor's theorem approximates a function *f(x)* near *x=a* using a polynomial expansion:  \n",
        "\\[\n",
        "f(x) \\approx f(a) + f'(a)(x-a) + \\frac{f''(a)}{2!}(x-a)^2 + \\dots\n",
        "\\]\n",
        "\n",
        "### Example  \n",
        "Finding the **3rd-order Taylor series expansion** of \\(e^x\\) at \\(x=0\\).\n"
      ],
      "metadata": {
        "id": "Sx8izp-JSrRm"
      }
    },
    {
      "cell_type": "code",
      "source": [
        "from sympy import exp, series\n",
        "\n",
        "# Define function\n",
        "f = exp(x)\n",
        "\n",
        "# Compute 3rd-order Taylor expansion at x = 0\n",
        "taylor_expansion = series(f, x, 0, 4)\n",
        "taylor_expansion\n"
      ],
      "metadata": {
        "colab": {
          "base_uri": "https://localhost:8080/",
          "height": 54
        },
        "id": "q0J1DyfESyud",
        "outputId": "378ccc92-4818-42e1-fffc-483a2f39a7e1"
      },
      "execution_count": 4,
      "outputs": [
        {
          "output_type": "execute_result",
          "data": {
            "text/plain": [
              "1 + x + x**2/2 + x**3/6 + O(x**4)"
            ],
            "text/latex": "$\\displaystyle 1 + x + \\frac{x^{2}}{2} + \\frac{x^{3}}{6} + O\\left(x^{4}\\right)$"
          },
          "metadata": {},
          "execution_count": 4
        }
      ]
    },
    {
      "cell_type": "markdown",
      "source": [
        "## 3. Optimization with Gradient Descent\n",
        "\n",
        "### Definition\n",
        "Gradient Descent is an iterative optimization algorithm that moves in the direction of the negative gradient to minimize a function.\n",
        "\n",
        "### Example  \n",
        "Minimizing \\(f(x) = x^2 - 6x + 8\\) using **gradient descent**.\n"
      ],
      "metadata": {
        "id": "83GWsuFLSxBk"
      }
    },
    {
      "cell_type": "code",
      "source": [
        "# Gradient Descent Implementation\n",
        "def gradient_descent(f_prime, start_x, learning_rate=0.1, iterations=20):\n",
        "    x = start_x\n",
        "    for i in range(iterations):\n",
        "        grad = f_prime.subs(symbols('x'), x)  # Compute gradient\n",
        "        x = x - learning_rate * grad  # Update step\n",
        "    return x\n",
        "\n",
        "# Define function derivative\n",
        "f_prime = diff(x**2 - 6*x + 8, x)\n",
        "\n",
        "# Run gradient descent\n",
        "optimal_x = gradient_descent(f_prime, start_x=5)\n",
        "optimal_x\n"
      ],
      "metadata": {
        "colab": {
          "base_uri": "https://localhost:8080/",
          "height": 37
        },
        "id": "5pLGfyFHS84m",
        "outputId": "a4e335e2-df6b-40b5-97e2-1a03bd71c9a2"
      },
      "execution_count": 5,
      "outputs": [
        {
          "output_type": "execute_result",
          "data": {
            "text/plain": [
              "3.02305843009214"
            ],
            "text/latex": "$\\displaystyle 3.02305843009214$"
          },
          "metadata": {},
          "execution_count": 5
        }
      ]
    }
  ]
}