{
  "nbformat": 4,
  "nbformat_minor": 0,
  "metadata": {
    "colab": {
      "provenance": [],
      "authorship_tag": "ABX9TyPHVHcZqn2OVZJzyO4mZOM+",
      "include_colab_link": true
    },
    "kernelspec": {
      "name": "python3",
      "display_name": "Python 3"
    },
    "language_info": {
      "name": "python"
    }
  },
  "cells": [
    {
      "cell_type": "markdown",
      "metadata": {
        "id": "view-in-github",
        "colab_type": "text"
      },
      "source": [
        "<a href=\"https://colab.research.google.com/github/bchan9ASU/MAT421/blob/main/ModuleG1.ipynb\" target=\"_parent\"><img src=\"https://colab.research.google.com/assets/colab-badge.svg\" alt=\"Open In Colab\"/></a>"
      ]
    },
    {
      "cell_type": "code",
      "execution_count": null,
      "metadata": {
        "id": "Og-7b9-AggBx"
      },
      "outputs": [],
      "source": [
        "# Import necessary libraries\n",
        "import numpy as np\n",
        "import matplotlib.pyplot as plt\n",
        "from scipy.integrate import quad, trapz, simps"
      ]
    },
    {
      "cell_type": "markdown",
      "source": [
        "## Numerical Integration in Python\n",
        "\n",
        "## Numerical Integration Problem Statement\n",
        "\n",
        "Numerical integration approximates definite integrals when analytical solutions are difficult to obtain.\n",
        "We will explore the following key concepts:\n",
        "1. **Riemann’s Integral**\n",
        "2. **Trapezoidal Rule**"
      ],
      "metadata": {
        "id": "h6IhSU_mKAfr"
      }
    },
    {
      "cell_type": "code",
      "source": [
        "# Function Definition\n",
        "# Example function: f(x) = x^2 * sin(x)\n",
        "def f(x):\n",
        "    return x**2 * np.sin(x)\n",
        "\n",
        "# Define integration limits\n",
        "a, b = 0, np.pi"
      ],
      "metadata": {
        "id": "E0gfaq9TKBGN"
      },
      "execution_count": null,
      "outputs": []
    },
    {
      "cell_type": "markdown",
      "source": [
        "## 1. Riemann’s Integral\n",
        "The Riemann integral approximates the area under a curve by summing up the areas of small rectangles.\n",
        "Formula:\n",
        "\\[ I \\approx \\sum_{i=0}^{n} f(x_i) \\Delta x \\]"
      ],
      "metadata": {
        "id": "bo1rWTTaKFnW"
      }
    },
    {
      "cell_type": "code",
      "source": [
        "# Riemann’s Integral Implementation\n",
        "def riemann_integral(f, a, b, n=1000):\n",
        "    x_vals = np.linspace(a, b, n)\n",
        "    dx = (b - a) / n\n",
        "    return np.sum(f(x_vals) * dx)\n",
        "\n",
        "riemann_result = riemann_integral(f, a, b)\n",
        "print(f\"Riemann’s Integral Approximation: {riemann_result}\")"
      ],
      "metadata": {
        "colab": {
          "base_uri": "https://localhost:8080/"
        },
        "id": "NCuK8BJfKLFW",
        "outputId": "a7b5ad95-4830-4f68-efa1-885c02c6317e"
      },
      "execution_count": null,
      "outputs": [
        {
          "output_type": "stream",
          "name": "stdout",
          "text": [
            "Trapezoidal Rule Approximation: 5.868776180006262\n"
          ]
        },
        {
          "output_type": "stream",
          "name": "stderr",
          "text": [
            "<ipython-input-3-ae1ea79080ac>:4: DeprecationWarning: 'scipy.integrate.trapz' is deprecated in favour of 'scipy.integrate.trapezoid' and will be removed in SciPy 1.14.0\n",
            "  trapezoidal_integral = trapz(y_vals, x_vals)\n"
          ]
        }
      ]
    },
    {
      "cell_type": "markdown",
      "source": [
        "## 2. Trapezoidal Rule\n",
        "This method approximates the integral by dividing the function into trapezoids.\n",
        "Formula:\n",
        "\\[ I \\approx \\sum \\frac{(b-a)}{2n} [f(x_0) + 2f(x_1) + ... + 2f(x_{n-1}) + f(x_n)] \\]"
      ],
      "metadata": {
        "id": "AkJ6kiEKKLn5"
      }
    },
    {
      "cell_type": "code",
      "source": [
        "# Apply Trapezoidal Rule\n",
        "x_vals = np.linspace(a, b, 100)\n",
        "y_vals = f(x_vals)\n",
        "trapezoidal_integral = trapz(y_vals, x_vals)\n",
        "print(f\"Trapezoidal Rule Approximation: {trapezoidal_integral}\")"
      ],
      "metadata": {
        "colab": {
          "base_uri": "https://localhost:8080/"
        },
        "id": "NodiESczKNFf",
        "outputId": "f4d64ebc-674f-41dd-8de8-84e6196ec734"
      },
      "execution_count": null,
      "outputs": [
        {
          "output_type": "stream",
          "name": "stdout",
          "text": [
            "Simpson's Rule Approximation: 5.8696045190919\n"
          ]
        },
        {
          "output_type": "stream",
          "name": "stderr",
          "text": [
            "<ipython-input-4-5c5ceab5fa91>:2: DeprecationWarning: 'scipy.integrate.simps' is deprecated in favour of 'scipy.integrate.simpson' and will be removed in SciPy 1.14.0\n",
            "  simpsons_integral = simps(y_vals, x_vals)\n"
          ]
        }
      ]
    },
    {
      "cell_type": "markdown",
      "source": [
        "## Conclusion\n",
        "- **Riemann’s Integral** provides an approximation by summing up rectangles.\n",
        "- **Trapezoidal Rule** improves upon this by considering trapezoidal areas for better accuracy.\n",
        "\n",
        "For higher accuracy, increasing the number of subintervals is recommended."
      ],
      "metadata": {
        "id": "1PTlZ1ScKO22"
      }
    }
  ]
}