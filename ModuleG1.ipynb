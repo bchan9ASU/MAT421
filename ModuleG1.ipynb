{
  "nbformat": 4,
  "nbformat_minor": 0,
  "metadata": {
    "colab": {
      "provenance": [],
      "authorship_tag": "ABX9TyNi8tYwvdpSxuPhHWc+SgUy",
      "include_colab_link": true
    },
    "kernelspec": {
      "name": "python3",
      "display_name": "Python 3"
    },
    "language_info": {
      "name": "python"
    }
  },
  "cells": [
    {
      "cell_type": "markdown",
      "metadata": {
        "id": "view-in-github",
        "colab_type": "text"
      },
      "source": [
        "<a href=\"https://colab.research.google.com/github/bchan9ASU/MAT421/blob/main/ModuleG1.ipynb\" target=\"_parent\"><img src=\"https://colab.research.google.com/assets/colab-badge.svg\" alt=\"Open In Colab\"/></a>"
      ]
    },
    {
      "cell_type": "code",
      "execution_count": 1,
      "metadata": {
        "id": "Og-7b9-AggBx"
      },
      "outputs": [],
      "source": [
        "# Import necessary libraries\n",
        "import numpy as np\n",
        "import matplotlib.pyplot as plt\n",
        "from scipy.integrate import quad, trapz, simps"
      ]
    },
    {
      "cell_type": "markdown",
      "source": [
        "## Numerical Integration in Python\n",
        "\n",
        "Numerical integration approximates definite integrals when analytical solutions are difficult to obtain.\n",
        "We will explore three key methods:\n",
        "1. **Trapezoidal Rule**\n",
        "2. **Simpson's Rule**\n",
        "3. **Quadrature (Gaussian Quadrature)**\n",
        "\n",
        "Each method has different accuracy and use cases."
      ],
      "metadata": {
        "id": "h6IhSU_mKAfr"
      }
    },
    {
      "cell_type": "code",
      "source": [
        "# Function Definition\n",
        "# Example function: f(x) = x^2 * sin(x)\n",
        "def f(x):\n",
        "    return x**2 * np.sin(x)\n",
        "\n",
        "# Define integration limits\n",
        "a, b = 0, np.pi"
      ],
      "metadata": {
        "id": "E0gfaq9TKBGN"
      },
      "execution_count": 2,
      "outputs": []
    },
    {
      "cell_type": "markdown",
      "source": [
        "## 1. Trapezoidal Rule\n",
        "This method approximates the integral by dividing the function into trapezoids.\n",
        "Formula:\n",
        "\\[ I \\approx \\sum \\frac{(b-a)}{2n} [f(x_0) + 2f(x_1) + ... + 2f(x_{n-1}) + f(x_n)] \\]"
      ],
      "metadata": {
        "id": "bo1rWTTaKFnW"
      }
    },
    {
      "cell_type": "code",
      "source": [
        "# Apply Trapezoidal Rule\n",
        "x_vals = np.linspace(a, b, 100)\n",
        "y_vals = f(x_vals)\n",
        "trapezoidal_integral = trapz(y_vals, x_vals)\n",
        "print(f\"Trapezoidal Rule Approximation: {trapezoidal_integral}\")"
      ],
      "metadata": {
        "colab": {
          "base_uri": "https://localhost:8080/"
        },
        "id": "NCuK8BJfKLFW",
        "outputId": "a7b5ad95-4830-4f68-efa1-885c02c6317e"
      },
      "execution_count": 3,
      "outputs": [
        {
          "output_type": "stream",
          "name": "stdout",
          "text": [
            "Trapezoidal Rule Approximation: 5.868776180006262\n"
          ]
        },
        {
          "output_type": "stream",
          "name": "stderr",
          "text": [
            "<ipython-input-3-ae1ea79080ac>:4: DeprecationWarning: 'scipy.integrate.trapz' is deprecated in favour of 'scipy.integrate.trapezoid' and will be removed in SciPy 1.14.0\n",
            "  trapezoidal_integral = trapz(y_vals, x_vals)\n"
          ]
        }
      ]
    },
    {
      "cell_type": "markdown",
      "source": [
        "## 2. Simpson's Rule\n",
        "Simpson’s rule uses parabolic approximations for better accuracy.\n",
        "Formula:\n",
        "\\[ I \\approx \\frac{h}{3} [f(x_0) + 4f(x_1) + 2f(x_2) + ... + 4f(x_{n-1}) + f(x_n)] \\]"
      ],
      "metadata": {
        "id": "AkJ6kiEKKLn5"
      }
    },
    {
      "cell_type": "code",
      "source": [
        "# Apply Simpson's Rule\n",
        "simpsons_integral = simps(y_vals, x_vals)\n",
        "print(f\"Simpson's Rule Approximation: {simpsons_integral}\")"
      ],
      "metadata": {
        "colab": {
          "base_uri": "https://localhost:8080/"
        },
        "id": "NodiESczKNFf",
        "outputId": "f4d64ebc-674f-41dd-8de8-84e6196ec734"
      },
      "execution_count": 4,
      "outputs": [
        {
          "output_type": "stream",
          "name": "stdout",
          "text": [
            "Simpson's Rule Approximation: 5.8696045190919\n"
          ]
        },
        {
          "output_type": "stream",
          "name": "stderr",
          "text": [
            "<ipython-input-4-5c5ceab5fa91>:2: DeprecationWarning: 'scipy.integrate.simps' is deprecated in favour of 'scipy.integrate.simpson' and will be removed in SciPy 1.14.0\n",
            "  simpsons_integral = simps(y_vals, x_vals)\n"
          ]
        }
      ]
    },
    {
      "cell_type": "markdown",
      "source": [
        "## 3. Gaussian Quadrature\n",
        "A more advanced technique that provides high accuracy with fewer function evaluations."
      ],
      "metadata": {
        "id": "1PTlZ1ScKO22"
      }
    },
    {
      "cell_type": "code",
      "source": [
        "# Apply Quadrature\n",
        "quadrature_integral, _ = quad(f, a, b)\n",
        "print(f\"Gaussian Quadrature Approximation: {quadrature_integral}\")"
      ],
      "metadata": {
        "colab": {
          "base_uri": "https://localhost:8080/"
        },
        "id": "UW_Ek5VQKREj",
        "outputId": "eec44aba-9648-4691-8ee0-a3e638f813fe"
      },
      "execution_count": 5,
      "outputs": [
        {
          "output_type": "stream",
          "name": "stdout",
          "text": [
            "Gaussian Quadrature Approximation: 5.869604401089359\n"
          ]
        }
      ]
    },
    {
      "cell_type": "markdown",
      "source": [
        "## Conclusion\n",
        "- **Trapezoidal Rule** provides a quick but less accurate estimate.\n",
        "- **Simpson’s Rule** is more accurate for smooth functions.\n",
        "- **Gaussian Quadrature** gives the most accurate result with minimal computations.\n",
        "\n",
        "For higher accuracy, increase the number of subintervals in Trapezoidal and Simpson’s rules."
      ],
      "metadata": {
        "id": "9O68XLzwKUws"
      }
    }
  ]
}