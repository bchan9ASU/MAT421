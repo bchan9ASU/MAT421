{
  "cells": [
    {
      "cell_type": "markdown",
      "metadata": {
        "id": "view-in-github",
        "colab_type": "text"
      },
      "source": [
        "<a href=\"https://colab.research.google.com/github/bchan9ASU/MAT421/blob/main/Project.ipynb\" target=\"_parent\"><img src=\"https://colab.research.google.com/assets/colab-badge.svg\" alt=\"Open In Colab\"/></a>"
      ]
    },
    {
      "cell_type": "markdown",
      "id": "bcdf3fa6-91fb-4db1-a475-588009dd7df5",
      "metadata": {
        "id": "bcdf3fa6-91fb-4db1-a475-588009dd7df5"
      },
      "source": [
        "# 1. Introduction to the Problem\n",
        "Loan approval is a critical process in banking sectors where applicants are either approved or denied a loan.\n",
        "Financial institutions need to minimize the risk of lending to individuals who are likely to default, as it can have major economic consequences.\n",
        "Traditionally, banks used credit scores, past repayment histories, and manual assessments to make decisions.\n",
        "With the advent of machine learning (ML), data-driven models can assist or even outperform traditional methods in identifying potential risks.\n",
        "This project focuses on using historical loan applicant data to predict whether an applicant is a risky loan recipient.\n",
        "By accurately predicting risk, lenders can make better, faster decisions and reduce financial losses.\n",
        "\n",
        "**Research Question:**  \n",
        "This study investigates whether machine learning models, specifically Logistic Regression, Random Forest, and Gradient Boosting, can accurately predict the financial risk of loan applicants based on demographic and financial profile features.\n",
        "\n",
        "# 2. Related Work\n",
        "Loan approval prediction has been a significant area of research in machine learning and data science. Various models have been employed to assess credit risk and predict loan approvals. Logistic Regression, Decision Trees, Random Forests, Support Vector Machines (SVM), and Neural Networks are among the commonly used algorithms in this domain.\n",
        "\n",
        "Prior studies, such as Addo et al. (2018), have compared machine learning models like Random Forests, Gradient Boosting, and Logistic Regression for credit risk prediction, finding that tree-based models tend to outperform simpler linear models [1]. Ensemble methods like Random Forests often handle complex, non-linear relationships and reduce overfitting, making them highly effective for credit risk modeling.\n",
        "\n",
        "Additionally, techniques such as K-Nearest Neighbors (KNN) and SVM have been utilized to capture intricate patterns in applicant data. Feature engineering and selection play a crucial role in enhancing model performance. Incorporating domain knowledge to select relevant features and applying dimensionality reduction techniques can lead to more accurate predictions. Moreover, handling class imbalance through resampling methods or using evaluation metrics like the F1-score is essential for building robust models.\n",
        "\n",
        "In this study, Logistic Regression is employed as an initial baseline model due to its simplicity and interpretability, and ensemble models such as Random Forest and Gradient Boosting are subsequently explored to achieve potentially higher predictive accuracy.\n",
        "\n",
        "# 3. Proposed Methodology\n",
        "\n",
        "## 3.1 Data Source\n",
        "The dataset utilized in this study is sourced from Kaggle: Loan Approval Dataset by rohit265. It comprises 252,000 entries, providing a comprehensive overview of loan applicants' profiles, enabling analysis and modeling for risk assessment.\n",
        "\n",
        "## 3.2 Data Preprocessing\n",
        "To prepare the data for modeling:\n",
        "\n",
        "### 3.2.1 Handling Missing Values\n",
        "Categorical variables with missing values were imputed using the mode, while numerical variables were filled with the median to maintain data integrity.\n",
        "\n",
        "### 3.2.2 Encoding Categorical Variables\n",
        "Label Encoding was applied to convert categorical variables into numerical format, facilitating their use in machine learning algorithms.\n",
        "\n",
        "### 3.2.3 Feature Selection\n",
        "Irrelevant features, such as unique identifiers, were removed to focus on variables that contribute to the prediction task.\n",
        "\n",
        "## 3.3 Model Selection\n",
        "Three models were selected for evaluation in this study:\n",
        "\n",
        "- Logistic Regression was chosen as a simple and interpretable baseline model for binary classification tasks such as loan approval prediction. The model’s parameters were set with a maximum of 1000 iterations to ensure convergence.\n",
        "\n",
        "- Random Forest was employed as an ensemble method capable of capturing complex feature interactions and reducing overfitting, which is often observed in credit risk modeling.\n",
        "\n",
        "- Gradient Boosting was included to evaluate the effectiveness of boosting techniques, which iteratively correct the errors of weak learners to build a strong predictive model.\n",
        "\n",
        "## 3.4 Model Evaluation\n",
        "The dataset was split into training and testing sets using an 80-20 split. Each model's performance was evaluated using metrics such as accuracy, precision, recall, and the F1-score to provide a compreensive assessment of predictive effectiveness.\n",
        "ssessment."
      ]
    },
    {
      "cell_type": "markdown",
      "id": "c67476e2-28c2-4f16-b20f-a65d397b283e",
      "metadata": {
        "id": "c67476e2-28c2-4f16-b20f-a65d397b283e"
      },
      "source": [
        "# 4. Experiment Setup"
      ]
    },
    {
      "cell_type": "markdown",
      "id": "cc6985e3-226e-422a-8e20-0a2106706fc3",
      "metadata": {
        "id": "cc6985e3-226e-422a-8e20-0a2106706fc3"
      },
      "source": [
        "## Import Libraries\n"
      ]
    },
    {
      "cell_type": "code",
      "execution_count": null,
      "id": "08d5e76c-c507-4352-8122-f5117535749a",
      "metadata": {
        "id": "08d5e76c-c507-4352-8122-f5117535749a"
      },
      "outputs": [],
      "source": [
        "import pandas as pd\n",
        "import numpy as np\n",
        "import matplotlib.pyplot as plt\n",
        "import seaborn as sns\n",
        "from sklearn.model_selection import train_test_split\n",
        "from sklearn.preprocessing import LabelEncoder, StandardScaler\n",
        "from sklearn.linear_model import LogisticRegression\n",
        "from sklearn.metrics import accuracy_score, confusion_matrix, classification_report, roc_curve, auc"
      ]
    },
    {
      "cell_type": "markdown",
      "id": "495abbec-cab2-4677-9f3b-e662ff396ecb",
      "metadata": {
        "id": "495abbec-cab2-4677-9f3b-e662ff396ecb"
      },
      "source": [
        "## Load Dataset"
      ]
    },
    {
      "cell_type": "code",
      "execution_count": null,
      "id": "63f80213-bb23-4e0f-8ba9-57305f51ead7",
      "metadata": {
        "id": "63f80213-bb23-4e0f-8ba9-57305f51ead7"
      },
      "outputs": [],
      "source": [
        "df = pd.read_json(\"loan_approval_dataset.json\")"
      ]
    },
    {
      "cell_type": "markdown",
      "id": "b26af5ba-37b9-43cb-86e1-262be1861499",
      "metadata": {
        "id": "b26af5ba-37b9-43cb-86e1-262be1861499"
      },
      "source": [
        "## Preview Dataset"
      ]
    },
    {
      "cell_type": "code",
      "execution_count": null,
      "id": "4c3fcaee-b131-4c5f-a1ac-66a8a7ef6340",
      "metadata": {
        "id": "4c3fcaee-b131-4c5f-a1ac-66a8a7ef6340",
        "outputId": "4c9ecdf2-c980-4618-8e52-574c1ed13632"
      },
      "outputs": [
        {
          "name": "stdout",
          "output_type": "stream",
          "text": [
            "First 5 rows of the dataset:\n",
            "   Id   Income  Age  Experience Married/Single House_Ownership Car_Ownership  \\\n",
            "0   1  1303834   23           3         single          rented            no   \n",
            "1   2  7574516   40          10         single          rented            no   \n",
            "2   3  3991815   66           4        married          rented            no   \n",
            "3   4  6256451   41           2         single          rented           yes   \n",
            "4   5  5768871   47          11         single          rented            no   \n",
            "\n",
            "            Profession                 CITY           STATE  CURRENT_JOB_YRS  \\\n",
            "0  Mechanical_engineer                 Rewa  Madhya_Pradesh                3   \n",
            "1   Software_Developer             Parbhani     Maharashtra                9   \n",
            "2     Technical_writer            Alappuzha          Kerala                4   \n",
            "3   Software_Developer          Bhubaneswar          Odisha                2   \n",
            "4        Civil_servant  Tiruchirappalli[10]      Tamil_Nadu                3   \n",
            "\n",
            "   CURRENT_HOUSE_YRS  Risk_Flag  \n",
            "0                 13          0  \n",
            "1                 13          0  \n",
            "2                 10          0  \n",
            "3                 12          1  \n",
            "4                 14          1  \n"
          ]
        }
      ],
      "source": [
        "print(\"First 5 rows of the dataset:\")\n",
        "print(df.head())\n"
      ]
    },
    {
      "cell_type": "markdown",
      "id": "d4916c5f-3f66-4b42-a4d4-49cac6b2323b",
      "metadata": {
        "id": "d4916c5f-3f66-4b42-a4d4-49cac6b2323b"
      },
      "source": [
        "## Check for missing values"
      ]
    },
    {
      "cell_type": "code",
      "execution_count": null,
      "id": "136ff782-5839-4a02-b391-3cefe2770436",
      "metadata": {
        "id": "136ff782-5839-4a02-b391-3cefe2770436",
        "outputId": "883c1b8e-64d8-4462-bbf1-4f7d3db3b963"
      },
      "outputs": [
        {
          "name": "stdout",
          "output_type": "stream",
          "text": [
            "\n",
            "Missing values:\n",
            "Id                   0\n",
            "Income               0\n",
            "Age                  0\n",
            "Experience           0\n",
            "Married/Single       0\n",
            "House_Ownership      0\n",
            "Car_Ownership        0\n",
            "Profession           0\n",
            "CITY                 0\n",
            "STATE                0\n",
            "CURRENT_JOB_YRS      0\n",
            "CURRENT_HOUSE_YRS    0\n",
            "Risk_Flag            0\n",
            "dtype: int64\n"
          ]
        }
      ],
      "source": [
        "print(\"\\nMissing values:\")\n",
        "print(df.isnull().sum())"
      ]
    },
    {
      "cell_type": "markdown",
      "id": "da85cfbd-30ad-4f65-883a-006c5141c21f",
      "metadata": {
        "id": "da85cfbd-30ad-4f65-883a-006c5141c21f"
      },
      "source": [
        "## Handle Missing Values"
      ]
    },
    {
      "cell_type": "code",
      "execution_count": null,
      "id": "e51b9d26-c831-4f0d-8396-237a801b7ad0",
      "metadata": {
        "id": "e51b9d26-c831-4f0d-8396-237a801b7ad0"
      },
      "outputs": [],
      "source": [
        "# Simple strategy: Fill categorical with mode, numerical with median (if needed)\n",
        "for column in df.columns:\n",
        "    if df[column].isnull().sum() > 0:\n",
        "        if df[column].dtype == 'object':\n",
        "            df[column].fillna(df[column].mode()[0], inplace=True)\n",
        "        else:\n",
        "            df[column].fillna(df[column].median(), inplace=True)"
      ]
    },
    {
      "cell_type": "markdown",
      "id": "e6d96ff3-3cdd-4b75-9701-c838bf0493fa",
      "metadata": {
        "id": "e6d96ff3-3cdd-4b75-9701-c838bf0493fa"
      },
      "source": [
        "## Drop Id (not useful for prediction)"
      ]
    },
    {
      "cell_type": "code",
      "execution_count": null,
      "id": "ba895096-c823-431a-a2bb-6c7126e8407c",
      "metadata": {
        "id": "ba895096-c823-431a-a2bb-6c7126e8407c"
      },
      "outputs": [],
      "source": [
        "df.drop('Id', axis=1, inplace=True)"
      ]
    },
    {
      "cell_type": "markdown",
      "id": "e69c745b-7462-4d8f-a0c1-a93cb533296f",
      "metadata": {
        "id": "e69c745b-7462-4d8f-a0c1-a93cb533296f"
      },
      "source": [
        "## Encode Categorical Variables"
      ]
    },
    {
      "cell_type": "code",
      "execution_count": null,
      "id": "a3168816-9cea-41c3-8f28-8d2048d6f663",
      "metadata": {
        "id": "a3168816-9cea-41c3-8f28-8d2048d6f663"
      },
      "outputs": [],
      "source": [
        "encoder = LabelEncoder()\n",
        "for column in df.columns:\n",
        "    if df[column].dtype == 'object':\n",
        "        df[column] = encoder.fit_transform(df[column])"
      ]
    },
    {
      "cell_type": "markdown",
      "id": "dc4d4411-8392-4852-bcd3-605adb28028b",
      "metadata": {
        "id": "dc4d4411-8392-4852-bcd3-605adb28028b"
      },
      "source": [
        "## Feature Selection"
      ]
    },
    {
      "cell_type": "code",
      "execution_count": null,
      "id": "ac46552d-7981-4a23-b832-7d41697e6539",
      "metadata": {
        "id": "ac46552d-7981-4a23-b832-7d41697e6539"
      },
      "outputs": [],
      "source": [
        "X = df.drop('Risk_Flag', axis=1)\n",
        "y = df['Risk_Flag']"
      ]
    },
    {
      "cell_type": "markdown",
      "id": "436b7730-459a-407b-9a97-1d81965e58a0",
      "metadata": {
        "id": "436b7730-459a-407b-9a97-1d81965e58a0"
      },
      "source": [
        "## Train-Test Split"
      ]
    },
    {
      "cell_type": "code",
      "execution_count": null,
      "id": "122f7f42-6eb6-452c-b9ae-0022898206e4",
      "metadata": {
        "id": "122f7f42-6eb6-452c-b9ae-0022898206e4"
      },
      "outputs": [],
      "source": [
        "X_train, X_test, y_train, y_test = train_test_split(X, y, test_size=0.2, random_state=42)"
      ]
    },
    {
      "cell_type": "markdown",
      "id": "fed4b0fc-4031-4cbd-bcab-2db94db016ac",
      "metadata": {
        "id": "fed4b0fc-4031-4cbd-bcab-2db94db016ac"
      },
      "source": [
        "## Train Logistic Regression Model"
      ]
    },
    {
      "cell_type": "code",
      "execution_count": null,
      "id": "ad4776b4-2fa0-4b2c-beff-ec1f1bf90179",
      "metadata": {
        "id": "ad4776b4-2fa0-4b2c-beff-ec1f1bf90179",
        "outputId": "2d52710f-da86-4032-f164-31e668264782"
      },
      "outputs": [
        {
          "data": {
            "text/html": [
              "<style>#sk-container-id-1 {\n",
              "  /* Definition of color scheme common for light and dark mode */\n",
              "  --sklearn-color-text: black;\n",
              "  --sklearn-color-line: gray;\n",
              "  /* Definition of color scheme for unfitted estimators */\n",
              "  --sklearn-color-unfitted-level-0: #fff5e6;\n",
              "  --sklearn-color-unfitted-level-1: #f6e4d2;\n",
              "  --sklearn-color-unfitted-level-2: #ffe0b3;\n",
              "  --sklearn-color-unfitted-level-3: chocolate;\n",
              "  /* Definition of color scheme for fitted estimators */\n",
              "  --sklearn-color-fitted-level-0: #f0f8ff;\n",
              "  --sklearn-color-fitted-level-1: #d4ebff;\n",
              "  --sklearn-color-fitted-level-2: #b3dbfd;\n",
              "  --sklearn-color-fitted-level-3: cornflowerblue;\n",
              "\n",
              "  /* Specific color for light theme */\n",
              "  --sklearn-color-text-on-default-background: var(--sg-text-color, var(--theme-code-foreground, var(--jp-content-font-color1, black)));\n",
              "  --sklearn-color-background: var(--sg-background-color, var(--theme-background, var(--jp-layout-color0, white)));\n",
              "  --sklearn-color-border-box: var(--sg-text-color, var(--theme-code-foreground, var(--jp-content-font-color1, black)));\n",
              "  --sklearn-color-icon: #696969;\n",
              "\n",
              "  @media (prefers-color-scheme: dark) {\n",
              "    /* Redefinition of color scheme for dark theme */\n",
              "    --sklearn-color-text-on-default-background: var(--sg-text-color, var(--theme-code-foreground, var(--jp-content-font-color1, white)));\n",
              "    --sklearn-color-background: var(--sg-background-color, var(--theme-background, var(--jp-layout-color0, #111)));\n",
              "    --sklearn-color-border-box: var(--sg-text-color, var(--theme-code-foreground, var(--jp-content-font-color1, white)));\n",
              "    --sklearn-color-icon: #878787;\n",
              "  }\n",
              "}\n",
              "\n",
              "#sk-container-id-1 {\n",
              "  color: var(--sklearn-color-text);\n",
              "}\n",
              "\n",
              "#sk-container-id-1 pre {\n",
              "  padding: 0;\n",
              "}\n",
              "\n",
              "#sk-container-id-1 input.sk-hidden--visually {\n",
              "  border: 0;\n",
              "  clip: rect(1px 1px 1px 1px);\n",
              "  clip: rect(1px, 1px, 1px, 1px);\n",
              "  height: 1px;\n",
              "  margin: -1px;\n",
              "  overflow: hidden;\n",
              "  padding: 0;\n",
              "  position: absolute;\n",
              "  width: 1px;\n",
              "}\n",
              "\n",
              "#sk-container-id-1 div.sk-dashed-wrapped {\n",
              "  border: 1px dashed var(--sklearn-color-line);\n",
              "  margin: 0 0.4em 0.5em 0.4em;\n",
              "  box-sizing: border-box;\n",
              "  padding-bottom: 0.4em;\n",
              "  background-color: var(--sklearn-color-background);\n",
              "}\n",
              "\n",
              "#sk-container-id-1 div.sk-container {\n",
              "  /* jupyter's `normalize.less` sets `[hidden] { display: none; }`\n",
              "     but bootstrap.min.css set `[hidden] { display: none !important; }`\n",
              "     so we also need the `!important` here to be able to override the\n",
              "     default hidden behavior on the sphinx rendered scikit-learn.org.\n",
              "     See: https://github.com/scikit-learn/scikit-learn/issues/21755 */\n",
              "  display: inline-block !important;\n",
              "  position: relative;\n",
              "}\n",
              "\n",
              "#sk-container-id-1 div.sk-text-repr-fallback {\n",
              "  display: none;\n",
              "}\n",
              "\n",
              "div.sk-parallel-item,\n",
              "div.sk-serial,\n",
              "div.sk-item {\n",
              "  /* draw centered vertical line to link estimators */\n",
              "  background-image: linear-gradient(var(--sklearn-color-text-on-default-background), var(--sklearn-color-text-on-default-background));\n",
              "  background-size: 2px 100%;\n",
              "  background-repeat: no-repeat;\n",
              "  background-position: center center;\n",
              "}\n",
              "\n",
              "/* Parallel-specific style estimator block */\n",
              "\n",
              "#sk-container-id-1 div.sk-parallel-item::after {\n",
              "  content: \"\";\n",
              "  width: 100%;\n",
              "  border-bottom: 2px solid var(--sklearn-color-text-on-default-background);\n",
              "  flex-grow: 1;\n",
              "}\n",
              "\n",
              "#sk-container-id-1 div.sk-parallel {\n",
              "  display: flex;\n",
              "  align-items: stretch;\n",
              "  justify-content: center;\n",
              "  background-color: var(--sklearn-color-background);\n",
              "  position: relative;\n",
              "}\n",
              "\n",
              "#sk-container-id-1 div.sk-parallel-item {\n",
              "  display: flex;\n",
              "  flex-direction: column;\n",
              "}\n",
              "\n",
              "#sk-container-id-1 div.sk-parallel-item:first-child::after {\n",
              "  align-self: flex-end;\n",
              "  width: 50%;\n",
              "}\n",
              "\n",
              "#sk-container-id-1 div.sk-parallel-item:last-child::after {\n",
              "  align-self: flex-start;\n",
              "  width: 50%;\n",
              "}\n",
              "\n",
              "#sk-container-id-1 div.sk-parallel-item:only-child::after {\n",
              "  width: 0;\n",
              "}\n",
              "\n",
              "/* Serial-specific style estimator block */\n",
              "\n",
              "#sk-container-id-1 div.sk-serial {\n",
              "  display: flex;\n",
              "  flex-direction: column;\n",
              "  align-items: center;\n",
              "  background-color: var(--sklearn-color-background);\n",
              "  padding-right: 1em;\n",
              "  padding-left: 1em;\n",
              "}\n",
              "\n",
              "\n",
              "/* Toggleable style: style used for estimator/Pipeline/ColumnTransformer box that is\n",
              "clickable and can be expanded/collapsed.\n",
              "- Pipeline and ColumnTransformer use this feature and define the default style\n",
              "- Estimators will overwrite some part of the style using the `sk-estimator` class\n",
              "*/\n",
              "\n",
              "/* Pipeline and ColumnTransformer style (default) */\n",
              "\n",
              "#sk-container-id-1 div.sk-toggleable {\n",
              "  /* Default theme specific background. It is overwritten whether we have a\n",
              "  specific estimator or a Pipeline/ColumnTransformer */\n",
              "  background-color: var(--sklearn-color-background);\n",
              "}\n",
              "\n",
              "/* Toggleable label */\n",
              "#sk-container-id-1 label.sk-toggleable__label {\n",
              "  cursor: pointer;\n",
              "  display: block;\n",
              "  width: 100%;\n",
              "  margin-bottom: 0;\n",
              "  padding: 0.5em;\n",
              "  box-sizing: border-box;\n",
              "  text-align: center;\n",
              "}\n",
              "\n",
              "#sk-container-id-1 label.sk-toggleable__label-arrow:before {\n",
              "  /* Arrow on the left of the label */\n",
              "  content: \"▸\";\n",
              "  float: left;\n",
              "  margin-right: 0.25em;\n",
              "  color: var(--sklearn-color-icon);\n",
              "}\n",
              "\n",
              "#sk-container-id-1 label.sk-toggleable__label-arrow:hover:before {\n",
              "  color: var(--sklearn-color-text);\n",
              "}\n",
              "\n",
              "/* Toggleable content - dropdown */\n",
              "\n",
              "#sk-container-id-1 div.sk-toggleable__content {\n",
              "  max-height: 0;\n",
              "  max-width: 0;\n",
              "  overflow: hidden;\n",
              "  text-align: left;\n",
              "  /* unfitted */\n",
              "  background-color: var(--sklearn-color-unfitted-level-0);\n",
              "}\n",
              "\n",
              "#sk-container-id-1 div.sk-toggleable__content.fitted {\n",
              "  /* fitted */\n",
              "  background-color: var(--sklearn-color-fitted-level-0);\n",
              "}\n",
              "\n",
              "#sk-container-id-1 div.sk-toggleable__content pre {\n",
              "  margin: 0.2em;\n",
              "  border-radius: 0.25em;\n",
              "  color: var(--sklearn-color-text);\n",
              "  /* unfitted */\n",
              "  background-color: var(--sklearn-color-unfitted-level-0);\n",
              "}\n",
              "\n",
              "#sk-container-id-1 div.sk-toggleable__content.fitted pre {\n",
              "  /* unfitted */\n",
              "  background-color: var(--sklearn-color-fitted-level-0);\n",
              "}\n",
              "\n",
              "#sk-container-id-1 input.sk-toggleable__control:checked~div.sk-toggleable__content {\n",
              "  /* Expand drop-down */\n",
              "  max-height: 200px;\n",
              "  max-width: 100%;\n",
              "  overflow: auto;\n",
              "}\n",
              "\n",
              "#sk-container-id-1 input.sk-toggleable__control:checked~label.sk-toggleable__label-arrow:before {\n",
              "  content: \"▾\";\n",
              "}\n",
              "\n",
              "/* Pipeline/ColumnTransformer-specific style */\n",
              "\n",
              "#sk-container-id-1 div.sk-label input.sk-toggleable__control:checked~label.sk-toggleable__label {\n",
              "  color: var(--sklearn-color-text);\n",
              "  background-color: var(--sklearn-color-unfitted-level-2);\n",
              "}\n",
              "\n",
              "#sk-container-id-1 div.sk-label.fitted input.sk-toggleable__control:checked~label.sk-toggleable__label {\n",
              "  background-color: var(--sklearn-color-fitted-level-2);\n",
              "}\n",
              "\n",
              "/* Estimator-specific style */\n",
              "\n",
              "/* Colorize estimator box */\n",
              "#sk-container-id-1 div.sk-estimator input.sk-toggleable__control:checked~label.sk-toggleable__label {\n",
              "  /* unfitted */\n",
              "  background-color: var(--sklearn-color-unfitted-level-2);\n",
              "}\n",
              "\n",
              "#sk-container-id-1 div.sk-estimator.fitted input.sk-toggleable__control:checked~label.sk-toggleable__label {\n",
              "  /* fitted */\n",
              "  background-color: var(--sklearn-color-fitted-level-2);\n",
              "}\n",
              "\n",
              "#sk-container-id-1 div.sk-label label.sk-toggleable__label,\n",
              "#sk-container-id-1 div.sk-label label {\n",
              "  /* The background is the default theme color */\n",
              "  color: var(--sklearn-color-text-on-default-background);\n",
              "}\n",
              "\n",
              "/* On hover, darken the color of the background */\n",
              "#sk-container-id-1 div.sk-label:hover label.sk-toggleable__label {\n",
              "  color: var(--sklearn-color-text);\n",
              "  background-color: var(--sklearn-color-unfitted-level-2);\n",
              "}\n",
              "\n",
              "/* Label box, darken color on hover, fitted */\n",
              "#sk-container-id-1 div.sk-label.fitted:hover label.sk-toggleable__label.fitted {\n",
              "  color: var(--sklearn-color-text);\n",
              "  background-color: var(--sklearn-color-fitted-level-2);\n",
              "}\n",
              "\n",
              "/* Estimator label */\n",
              "\n",
              "#sk-container-id-1 div.sk-label label {\n",
              "  font-family: monospace;\n",
              "  font-weight: bold;\n",
              "  display: inline-block;\n",
              "  line-height: 1.2em;\n",
              "}\n",
              "\n",
              "#sk-container-id-1 div.sk-label-container {\n",
              "  text-align: center;\n",
              "}\n",
              "\n",
              "/* Estimator-specific */\n",
              "#sk-container-id-1 div.sk-estimator {\n",
              "  font-family: monospace;\n",
              "  border: 1px dotted var(--sklearn-color-border-box);\n",
              "  border-radius: 0.25em;\n",
              "  box-sizing: border-box;\n",
              "  margin-bottom: 0.5em;\n",
              "  /* unfitted */\n",
              "  background-color: var(--sklearn-color-unfitted-level-0);\n",
              "}\n",
              "\n",
              "#sk-container-id-1 div.sk-estimator.fitted {\n",
              "  /* fitted */\n",
              "  background-color: var(--sklearn-color-fitted-level-0);\n",
              "}\n",
              "\n",
              "/* on hover */\n",
              "#sk-container-id-1 div.sk-estimator:hover {\n",
              "  /* unfitted */\n",
              "  background-color: var(--sklearn-color-unfitted-level-2);\n",
              "}\n",
              "\n",
              "#sk-container-id-1 div.sk-estimator.fitted:hover {\n",
              "  /* fitted */\n",
              "  background-color: var(--sklearn-color-fitted-level-2);\n",
              "}\n",
              "\n",
              "/* Specification for estimator info (e.g. \"i\" and \"?\") */\n",
              "\n",
              "/* Common style for \"i\" and \"?\" */\n",
              "\n",
              ".sk-estimator-doc-link,\n",
              "a:link.sk-estimator-doc-link,\n",
              "a:visited.sk-estimator-doc-link {\n",
              "  float: right;\n",
              "  font-size: smaller;\n",
              "  line-height: 1em;\n",
              "  font-family: monospace;\n",
              "  background-color: var(--sklearn-color-background);\n",
              "  border-radius: 1em;\n",
              "  height: 1em;\n",
              "  width: 1em;\n",
              "  text-decoration: none !important;\n",
              "  margin-left: 1ex;\n",
              "  /* unfitted */\n",
              "  border: var(--sklearn-color-unfitted-level-1) 1pt solid;\n",
              "  color: var(--sklearn-color-unfitted-level-1);\n",
              "}\n",
              "\n",
              ".sk-estimator-doc-link.fitted,\n",
              "a:link.sk-estimator-doc-link.fitted,\n",
              "a:visited.sk-estimator-doc-link.fitted {\n",
              "  /* fitted */\n",
              "  border: var(--sklearn-color-fitted-level-1) 1pt solid;\n",
              "  color: var(--sklearn-color-fitted-level-1);\n",
              "}\n",
              "\n",
              "/* On hover */\n",
              "div.sk-estimator:hover .sk-estimator-doc-link:hover,\n",
              ".sk-estimator-doc-link:hover,\n",
              "div.sk-label-container:hover .sk-estimator-doc-link:hover,\n",
              ".sk-estimator-doc-link:hover {\n",
              "  /* unfitted */\n",
              "  background-color: var(--sklearn-color-unfitted-level-3);\n",
              "  color: var(--sklearn-color-background);\n",
              "  text-decoration: none;\n",
              "}\n",
              "\n",
              "div.sk-estimator.fitted:hover .sk-estimator-doc-link.fitted:hover,\n",
              ".sk-estimator-doc-link.fitted:hover,\n",
              "div.sk-label-container:hover .sk-estimator-doc-link.fitted:hover,\n",
              ".sk-estimator-doc-link.fitted:hover {\n",
              "  /* fitted */\n",
              "  background-color: var(--sklearn-color-fitted-level-3);\n",
              "  color: var(--sklearn-color-background);\n",
              "  text-decoration: none;\n",
              "}\n",
              "\n",
              "/* Span, style for the box shown on hovering the info icon */\n",
              ".sk-estimator-doc-link span {\n",
              "  display: none;\n",
              "  z-index: 9999;\n",
              "  position: relative;\n",
              "  font-weight: normal;\n",
              "  right: .2ex;\n",
              "  padding: .5ex;\n",
              "  margin: .5ex;\n",
              "  width: min-content;\n",
              "  min-width: 20ex;\n",
              "  max-width: 50ex;\n",
              "  color: var(--sklearn-color-text);\n",
              "  box-shadow: 2pt 2pt 4pt #999;\n",
              "  /* unfitted */\n",
              "  background: var(--sklearn-color-unfitted-level-0);\n",
              "  border: .5pt solid var(--sklearn-color-unfitted-level-3);\n",
              "}\n",
              "\n",
              ".sk-estimator-doc-link.fitted span {\n",
              "  /* fitted */\n",
              "  background: var(--sklearn-color-fitted-level-0);\n",
              "  border: var(--sklearn-color-fitted-level-3);\n",
              "}\n",
              "\n",
              ".sk-estimator-doc-link:hover span {\n",
              "  display: block;\n",
              "}\n",
              "\n",
              "/* \"?\"-specific style due to the `<a>` HTML tag */\n",
              "\n",
              "#sk-container-id-1 a.estimator_doc_link {\n",
              "  float: right;\n",
              "  font-size: 1rem;\n",
              "  line-height: 1em;\n",
              "  font-family: monospace;\n",
              "  background-color: var(--sklearn-color-background);\n",
              "  border-radius: 1rem;\n",
              "  height: 1rem;\n",
              "  width: 1rem;\n",
              "  text-decoration: none;\n",
              "  /* unfitted */\n",
              "  color: var(--sklearn-color-unfitted-level-1);\n",
              "  border: var(--sklearn-color-unfitted-level-1) 1pt solid;\n",
              "}\n",
              "\n",
              "#sk-container-id-1 a.estimator_doc_link.fitted {\n",
              "  /* fitted */\n",
              "  border: var(--sklearn-color-fitted-level-1) 1pt solid;\n",
              "  color: var(--sklearn-color-fitted-level-1);\n",
              "}\n",
              "\n",
              "/* On hover */\n",
              "#sk-container-id-1 a.estimator_doc_link:hover {\n",
              "  /* unfitted */\n",
              "  background-color: var(--sklearn-color-unfitted-level-3);\n",
              "  color: var(--sklearn-color-background);\n",
              "  text-decoration: none;\n",
              "}\n",
              "\n",
              "#sk-container-id-1 a.estimator_doc_link.fitted:hover {\n",
              "  /* fitted */\n",
              "  background-color: var(--sklearn-color-fitted-level-3);\n",
              "}\n",
              "</style><div id=\"sk-container-id-1\" class=\"sk-top-container\"><div class=\"sk-text-repr-fallback\"><pre>LogisticRegression(max_iter=1000)</pre><b>In a Jupyter environment, please rerun this cell to show the HTML representation or trust the notebook. <br />On GitHub, the HTML representation is unable to render, please try loading this page with nbviewer.org.</b></div><div class=\"sk-container\" hidden><div class=\"sk-item\"><div class=\"sk-estimator fitted sk-toggleable\"><input class=\"sk-toggleable__control sk-hidden--visually\" id=\"sk-estimator-id-1\" type=\"checkbox\" checked><label for=\"sk-estimator-id-1\" class=\"sk-toggleable__label fitted sk-toggleable__label-arrow fitted\">&nbsp;&nbsp;LogisticRegression<a class=\"sk-estimator-doc-link fitted\" rel=\"noreferrer\" target=\"_blank\" href=\"https://scikit-learn.org/1.4/modules/generated/sklearn.linear_model.LogisticRegression.html\">?<span>Documentation for LogisticRegression</span></a><span class=\"sk-estimator-doc-link fitted\">i<span>Fitted</span></span></label><div class=\"sk-toggleable__content fitted\"><pre>LogisticRegression(max_iter=1000)</pre></div> </div></div></div></div>"
            ],
            "text/plain": [
              "LogisticRegression(max_iter=1000)"
            ]
          },
          "execution_count": 22,
          "metadata": {},
          "output_type": "execute_result"
        }
      ],
      "source": [
        "model = LogisticRegression(max_iter=1000)\n",
        "model.fit(X_train, y_train)"
      ]
    },
    {
      "cell_type": "markdown",
      "id": "7cc2eb3b-9610-45e5-aee3-9ca269f01a80",
      "metadata": {
        "id": "7cc2eb3b-9610-45e5-aee3-9ca269f01a80"
      },
      "source": [
        "# 5. Expected Results"
      ]
    },
    {
      "cell_type": "markdown",
      "id": "f1826c3f-afdb-4a03-ab71-966a4be36bff",
      "metadata": {
        "id": "f1826c3f-afdb-4a03-ab71-966a4be36bff"
      },
      "source": [
        "## Make Predictions"
      ]
    },
    {
      "cell_type": "code",
      "execution_count": null,
      "id": "1e4fd6b9-6ac1-4006-9724-4d39ee84dc78",
      "metadata": {
        "id": "1e4fd6b9-6ac1-4006-9724-4d39ee84dc78"
      },
      "outputs": [],
      "source": [
        "y_pred = model.predict(X_test)"
      ]
    },
    {
      "cell_type": "code",
      "execution_count": null,
      "id": "05ff55c9-cacc-42bc-a7b0-3bd0d776e650",
      "metadata": {
        "id": "05ff55c9-cacc-42bc-a7b0-3bd0d776e650"
      },
      "outputs": [],
      "source": [
        "## Evaluate Model"
      ]
    },
    {
      "cell_type": "code",
      "execution_count": null,
      "id": "6e9034a4-5c7e-4bbe-9781-c997cb0c08bf",
      "metadata": {
        "id": "6e9034a4-5c7e-4bbe-9781-c997cb0c08bf",
        "outputId": "d5a3d729-fad2-4a38-9197-6bb671c74104"
      },
      "outputs": [
        {
          "name": "stdout",
          "output_type": "stream",
          "text": [
            "\n",
            "Accuracy: 0.8759325396825397\n",
            "\n",
            "Confusion Matrix:\n",
            "[[44147     0]\n",
            " [ 6253     0]]\n",
            "\n",
            "Classification Report:\n",
            "              precision    recall  f1-score   support\n",
            "\n",
            "           0       0.88      1.00      0.93     44147\n",
            "           1       0.00      0.00      0.00      6253\n",
            "\n",
            "    accuracy                           0.88     50400\n",
            "   macro avg       0.44      0.50      0.47     50400\n",
            "weighted avg       0.77      0.88      0.82     50400\n",
            "\n"
          ]
        },
        {
          "name": "stderr",
          "output_type": "stream",
          "text": [
            "C:\\Users\\chanb\\anaconda3\\Lib\\site-packages\\sklearn\\metrics\\_classification.py:1509: UndefinedMetricWarning: Precision is ill-defined and being set to 0.0 in labels with no predicted samples. Use `zero_division` parameter to control this behavior.\n",
            "  _warn_prf(average, modifier, f\"{metric.capitalize()} is\", len(result))\n",
            "C:\\Users\\chanb\\anaconda3\\Lib\\site-packages\\sklearn\\metrics\\_classification.py:1509: UndefinedMetricWarning: Precision is ill-defined and being set to 0.0 in labels with no predicted samples. Use `zero_division` parameter to control this behavior.\n",
            "  _warn_prf(average, modifier, f\"{metric.capitalize()} is\", len(result))\n",
            "C:\\Users\\chanb\\anaconda3\\Lib\\site-packages\\sklearn\\metrics\\_classification.py:1509: UndefinedMetricWarning: Precision is ill-defined and being set to 0.0 in labels with no predicted samples. Use `zero_division` parameter to control this behavior.\n",
            "  _warn_prf(average, modifier, f\"{metric.capitalize()} is\", len(result))\n"
          ]
        }
      ],
      "source": [
        "print(\"\\nAccuracy:\", accuracy_score(y_test, y_pred))\n",
        "print(\"\\nConfusion Matrix:\")\n",
        "print(confusion_matrix(y_test, y_pred))\n",
        "\n",
        "print(\"\\nClassification Report:\")\n",
        "print(classification_report(y_test, y_pred))"
      ]
    },
    {
      "cell_type": "markdown",
      "id": "df53e374-2686-41b2-b30f-9f74e4347c18",
      "metadata": {
        "id": "df53e374-2686-41b2-b30f-9f74e4347c18"
      },
      "source": [
        "## Plot Confusion Matrix"
      ]
    },
    {
      "cell_type": "code",
      "execution_count": null,
      "id": "85b26ded-fa3b-45ca-8361-4128f14d6221",
      "metadata": {
        "id": "85b26ded-fa3b-45ca-8361-4128f14d6221",
        "outputId": "809af306-c5ed-4e62-8192-854c53b5571d"
      },
      "outputs": [
        {
          "data": {
            "image/png": "[encoded data removed]",
            "text/plain": [
              "<Figure size 640x480 with 2 Axes>"
            ]
          },
          "metadata": {},
          "output_type": "display_data"
        }
      ],
      "source": [
        "sns.heatmap(confusion_matrix(y_test, y_pred), annot=True, fmt='d', cmap='Blues')\n",
        "plt.title('Confusion Matrix')\n",
        "plt.xlabel('Predicted')\n",
        "plt.ylabel('Actual')\n",
        "plt.show()"
      ]
    },
    {
      "cell_type": "code",
      "execution_count": null,
      "id": "8d1c26a7-be29-4081-b80d-33895169e2f0",
      "metadata": {
        "id": "8d1c26a7-be29-4081-b80d-33895169e2f0",
        "outputId": "7f6b43ac-df41-4949-d565-19a7628fe94b"
      },
      "outputs": [
        {
          "name": "stdout",
          "output_type": "stream",
          "text": [
            "\n",
            "Random Forest Accuracy: 0.8984920634920635\n",
            "\n",
            "Random Forest Classification Report:\n",
            "              precision    recall  f1-score   support\n",
            "\n",
            "           0       0.94      0.95      0.94     44147\n",
            "           1       0.60      0.54      0.57      6253\n",
            "\n",
            "    accuracy                           0.90     50400\n",
            "   macro avg       0.77      0.74      0.75     50400\n",
            "weighted avg       0.89      0.90      0.90     50400\n",
            "\n"
          ]
        }
      ],
      "source": [
        "# Train and Evaluate Random Forest\n",
        "from sklearn.ensemble import RandomForestClassifier\n",
        "\n",
        "# Initialize Random Forest model\n",
        "rf_model = RandomForestClassifier(n_estimators=100, random_state=42)\n",
        "\n",
        "# Train the model\n",
        "rf_model.fit(X_train, y_train)\n",
        "\n",
        "# Predict\n",
        "y_pred_rf = rf_model.predict(X_test)\n",
        "\n",
        "# Evaluate\n",
        "print(\"\\nRandom Forest Accuracy:\", accuracy_score(y_test, y_pred_rf))\n",
        "print(\"\\nRandom Forest Classification Report:\")\n",
        "print(classification_report(y_test, y_pred_rf))"
      ]
    },
    {
      "cell_type": "code",
      "execution_count": null,
      "id": "7e942749-fa6c-47d1-ab65-27e0b7359adc",
      "metadata": {
        "id": "7e942749-fa6c-47d1-ab65-27e0b7359adc",
        "outputId": "2d3ee303-972a-4462-a62f-e1de5f0f0e83"
      },
      "outputs": [
        {
          "name": "stdout",
          "output_type": "stream",
          "text": [
            "\n",
            "Gradient Boosting Accuracy: 0.8761309523809524\n",
            "\n",
            "Gradient Boosting Classification Report:\n",
            "              precision    recall  f1-score   support\n",
            "\n",
            "           0       0.88      1.00      0.93     44147\n",
            "           1       0.78      0.00      0.00      6253\n",
            "\n",
            "    accuracy                           0.88     50400\n",
            "   macro avg       0.83      0.50      0.47     50400\n",
            "weighted avg       0.86      0.88      0.82     50400\n",
            "\n"
          ]
        }
      ],
      "source": [
        "# Train and Evaluate Gradient Boosting\n",
        "from sklearn.ensemble import GradientBoostingClassifier\n",
        "\n",
        "# Initialize Gradient Boosting model\n",
        "gb_model = GradientBoostingClassifier(n_estimators=100, learning_rate=0.1, random_state=42)\n",
        "\n",
        "# Train the model\n",
        "gb_model.fit(X_train, y_train)\n",
        "\n",
        "# Predict\n",
        "y_pred_gb = gb_model.predict(X_test)\n",
        "\n",
        "# Evaluate\n",
        "print(\"\\nGradient Boosting Accuracy:\", accuracy_score(y_test, y_pred_gb))\n",
        "print(\"\\nGradient Boosting Classification Report:\")\n",
        "print(classification_report(y_test, y_pred_gb))"
      ]
    },
    {
      "cell_type": "code",
      "execution_count": null,
      "id": "33cd80ec-dead-4a28-8c93-7ed1050eb89b",
      "metadata": {
        "id": "33cd80ec-dead-4a28-8c93-7ed1050eb89b",
        "outputId": "cfe33736-e806-495b-9b1c-b978812d45db"
      },
      "outputs": [
        {
          "name": "stdout",
          "output_type": "stream",
          "text": [
            "\n",
            "Model Comparison Table:\n"
          ]
        },
        {
          "data": {
            "text/html": [
              "<div>\n",
              "<style scoped>\n",
              "    .dataframe tbody tr th:only-of-type {\n",
              "        vertical-align: middle;\n",
              "    }\n",
              "\n",
              "    .dataframe tbody tr th {\n",
              "        vertical-align: top;\n",
              "    }\n",
              "\n",
              "    .dataframe thead th {\n",
              "        text-align: right;\n",
              "    }\n",
              "</style>\n",
              "<table border=\"1\" class=\"dataframe\">\n",
              "  <thead>\n",
              "    <tr style=\"text-align: right;\">\n",
              "      <th></th>\n",
              "      <th>Model</th>\n",
              "      <th>Accuracy</th>\n",
              "    </tr>\n",
              "  </thead>\n",
              "  <tbody>\n",
              "    <tr>\n",
              "      <th>0</th>\n",
              "      <td>Logistic Regression</td>\n",
              "      <td>0.875933</td>\n",
              "    </tr>\n",
              "    <tr>\n",
              "      <th>1</th>\n",
              "      <td>Random Forest</td>\n",
              "      <td>0.898492</td>\n",
              "    </tr>\n",
              "    <tr>\n",
              "      <th>2</th>\n",
              "      <td>Gradient Boosting</td>\n",
              "      <td>0.876131</td>\n",
              "    </tr>\n",
              "  </tbody>\n",
              "</table>\n",
              "</div>"
            ],
            "text/plain": [
              "                 Model  Accuracy\n",
              "0  Logistic Regression  0.875933\n",
              "1        Random Forest  0.898492\n",
              "2    Gradient Boosting  0.876131"
            ]
          },
          "metadata": {},
          "output_type": "display_data"
        }
      ],
      "source": [
        "# Compare Accuracy\n",
        "models = ['Logistic Regression', 'Random Forest', 'Gradient Boosting']\n",
        "accuracies = [\n",
        "    accuracy_score(y_test, y_pred),\n",
        "    accuracy_score(y_test, y_pred_rf),\n",
        "    accuracy_score(y_test, y_pred_gb)\n",
        "]\n",
        "\n",
        "# Create a simple table\n",
        "import pandas as pd\n",
        "\n",
        "comparison_df = pd.DataFrame({\n",
        "    'Model': models,\n",
        "    'Accuracy': accuracies\n",
        "})\n",
        "\n",
        "print(\"\\nModel Comparison Table:\")\n",
        "display(comparison_df)\n"
      ]
    },
    {
      "cell_type": "markdown",
      "id": "2dd68fbd-5f7d-4b26-a52a-e1845df1b5f6",
      "metadata": {
        "id": "2dd68fbd-5f7d-4b26-a52a-e1845df1b5f6"
      },
      "source": [
        "## Comparison\n",
        "\n",
        "While Logistic Regression provided a solid baseline performance, ensemble models such as Random Forests and Gradient Boosting Machines could offer improved predictive accuracy. Prior research, such as Addo et al. (2018), demonstrated that tree-based models generally outperform simpler linear models like Logistic Regression in credit risk prediction tasks [1]. These models are better at capturing complex feature interactions and handling class imbalance, which may lead to enhanced performance in future work. Incorporating such models could be a key avenue for extending this stud.\n",
        ".\n"
      ]
    },
    {
      "cell_type": "markdown",
      "id": "1ca79f57-2680-4989-a7a7-5ac235aeb407",
      "metadata": {
        "id": "1ca79f57-2680-4989-a7a7-5ac235aeb407"
      },
      "source": [
        "## Conclusion\n",
        "\n",
        "This study explored the application of multiple machine learning models—Logistic Regression, Random Forest, and Gradient Boosting—for predicting the financial risk associated with loan applicants. Starting with Logistic Regression as a baseline due to its simplicity and interpretability, the project expanded to include ensemble models to evaluate potential performance improvements.\n",
        "\n",
        "Among the models tested, Random Forest achieved the highest accuracy at approximately 89.85%, outperforming both Logistic Regression and Gradient Boosting. This result aligns with findings in previous research, where ensemble methods such as Random Forests demonstrated superior performance in credit risk assessment tasks. Gradient Boosting showed comparable but slightly lower performance, reinforcing the importance of model selection based on dataset characteristics.\n",
        "\n",
        "Overall, the results highlight the effectiveness of machine learning in automating loan risk prediction, with ensemble models offering significant gains over simpler linear classifiers. Future work could focus on addressing class imbalance through advanced resampling techniques, fine-tuning hyperparameters, and exploring more complex models such as XGBoost, LightGBM, or deep neural networks to capture more intricate patterns in the data.\n",
        "\n"
      ]
    },
    {
      "cell_type": "markdown",
      "id": "6ec70821-df7f-4bd6-9979-535a11d85047",
      "metadata": {
        "id": "6ec70821-df7f-4bd6-9979-535a11d85047"
      },
      "source": [
        "## References\n",
        "\n",
        "[1] Addo, P. M., Guegan, D., & Hassani, B. (2018). Credit Risk Analysis Using Machine and Deep Learning Models. *Risks*, 6(2), 38. https://doi.org/10.3390/risks6020038\n",
        "\n",
        "[2] Rohit265, \"Loan Approval Dataset,\" Kaggle. Available at: https://www.kaggle.com/datasets/rohit265/loan-approval-datset\n",
        "\n"
      ]
    }
  ],
  "metadata": {
    "kernelspec": {
      "display_name": "Python 3 (ipykernel)",
      "language": "python",
      "name": "python3"
    },
    "language_info": {
      "codemirror_mode": {
        "name": "ipython",
        "version": 3
      },
      "file_extension": ".py",
      "mimetype": "text/x-python",
      "name": "python",
      "nbconvert_exporter": "python",
      "pygments_lexer": "ipython3",
      "version": "3.12.4"
    },
    "colab": {
      "provenance": [],
      "include_colab_link": true
    }
  },
  "nbformat": 4,
  "nbformat_minor": 5
}