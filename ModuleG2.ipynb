{
  "nbformat": 4,
  "nbformat_minor": 0,
  "metadata": {
    "colab": {
      "provenance": [],
      "authorship_tag": "ABX9TyMdEVjczfLoahBIbAxJYS+I",
      "include_colab_link": true
    },
    "kernelspec": {
      "name": "python3",
      "display_name": "Python 3"
    },
    "language_info": {
      "name": "python"
    }
  },
  "cells": [
    {
      "cell_type": "markdown",
      "metadata": {
        "id": "view-in-github",
        "colab_type": "text"
      },
      "source": [
        "<a href=\"https://colab.research.google.com/github/bchan9ASU/MAT421/blob/main/ModuleG2.ipynb\" target=\"_parent\"><img src=\"https://colab.research.google.com/assets/colab-badge.svg\" alt=\"Open In Colab\"/></a>"
      ]
    },
    {
      "cell_type": "code",
      "execution_count": null,
      "metadata": {
        "id": "Og-7b9-AggBx"
      },
      "outputs": [],
      "source": [
        "# Import required libraries\n",
        "import numpy as np\n",
        "import matplotlib.pyplot as plt\n",
        "import scipy.integrate as spi"
      ]
    },
    {
      "cell_type": "markdown",
      "source": [
        "### Simpson’s Rule - Numerical Integration\n",
        "Simpson’s Rule is a method for approximating definite integrals by using quadratic polynomials instead of straight-line approximations.\n",
        "\n",
        "#### **Formula**\n",
        "For an integral:\n",
        "\\[\n",
        "I = \\int_{a}^{b} f(x)dx\n",
        "\\]\n",
        "Simpson’s Rule approximates it as:\n",
        "\\[\n",
        "I \\approx \\frac{h}{3} \\left[f(a) + 4f(a+h) + 2f(a+2h) + \\dots + 4f(b-h) + f(b)\\right]\n",
        "\\]\n",
        "where:\n",
        "- \\( h = \\frac{b-a}{n} \\) is the step size.\n",
        "- \\( n \\) must be **even** for Simpson’s Rule to work."
      ],
      "metadata": {
        "id": "h6IhSU_mKAfr"
      }
    },
    {
      "cell_type": "code",
      "source": [
        "# Define the function to integrate\n",
        "def f(x):\n",
        "    return np.sin(x)  # Example function\n",
        "\n",
        "# Simpson’s Rule Implementation\n",
        "def simpsons_rule(f, a, b, n):\n",
        "    if n % 2 == 1:\n",
        "        raise ValueError(\"n must be even for Simpson's Rule\")\n",
        "\n",
        "    h = (b - a) / n\n",
        "    x = np.linspace(a, b, n+1)  # Generate points\n",
        "    y = f(x)\n",
        "\n",
        "    # Simpson's Rule Formula\n",
        "    integral = (h / 3) * (y[0] + 4 * np.sum(y[1:n:2]) + 2 * np.sum(y[2:n-1:2]) + y[n])\n",
        "    return integral\n",
        "\n",
        "# Define integration limits\n",
        "a, b = 0, np.pi  # Integrate sin(x) from 0 to π\n",
        "n = 10  # Must be even\n",
        "\n",
        "# Compute integral\n",
        "approx_integral = simpsons_rule(f, a, b, n)\n",
        "true_integral, _ = spi.quad(f, a, b)  # Compute exact integral using SciPy\n",
        "\n",
        "# Print results\n",
        "print(f\"Simpson's Rule Approximation: {approx_integral}\")\n",
        "print(f\"True Integral Value: {true_integral}\")\n",
        "print(f\"Absolute Error: {abs(approx_integral - true_integral)}\")"
      ],
      "metadata": {
        "id": "E0gfaq9TKBGN",
        "colab": {
          "base_uri": "https://localhost:8080/"
        },
        "outputId": "686842c5-0878-4ee4-dc38-e442f63f4d01"
      },
      "execution_count": null,
      "outputs": [
        {
          "output_type": "stream",
          "name": "stdout",
          "text": [
            "Simpson's Rule Approximation: 2.0001095173150043\n",
            "True Integral Value: 2.0\n",
            "Absolute Error: 0.00010951731500430384\n"
          ]
        }
      ]
    }
  ]
}