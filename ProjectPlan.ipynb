{
  "cells": [
    {
      "cell_type": "markdown",
      "metadata": {
        "id": "view-in-github",
        "colab_type": "text"
      },
      "source": [
        "<a href=\"https://colab.research.google.com/github/bchan9ASU/MAT421/blob/main/ProjectPlan.ipynb\" target=\"_parent\"><img src=\"https://colab.research.google.com/assets/colab-badge.svg\" alt=\"Open In Colab\"/></a>"
      ]
    },
    {
      "cell_type": "markdown",
      "metadata": {
        "id": "KD8PATJLK5sa"
      },
      "source": [
        "# **Project Plan: Loan Approval Prediction Using Logistic Regression**"
      ]
    },
    {
      "cell_type": "markdown",
      "metadata": {
        "id": "tcxQf_MqK5sb"
      },
      "source": [
        "## **1. Introduction to the Problem**\n",
        "Loan approval is a crucial process for financial institutions. Traditionally, lenders assess applications based on factors like **income, credit score, and employment status** to determine whether an applicant qualifies for a loan.\n",
        "\n",
        "This project aims to build a **logistic regression model** to predict whether a loan application will be **approved or rejected** based on applicant features. By automating this process, banks can make data-driven lending decisions faster and more efficiently.\n",
        "\n",
        "### **Dataset**\n",
        "- Source: [Kaggle Loan Approval Dataset](https://www.kaggle.com/datasets/rohit265/loan-approval-dataset)\n",
        "- Features include: **Credit Score, Income, Loan Amount, Employment Status, Loan Term**\n",
        "- Target Variable: **Loan Approval (1 = Approved, 0 = Rejected)**\n",
        "\n",
        "**Hypothesis:** Credit score and income will be the most important predictors of loan approval."
      ]
    },
    {
      "cell_type": "markdown",
      "metadata": {
        "id": "HugHRvQkK5sb"
      },
      "source": [
        "## **2. Related Work**\n",
        "Logistic regression is widely used in financial risk assessment. Previous research indicates that machine learning models, including logistic regression, have achieved **80-85% accuracy** in loan approval predictions.\n",
        "\n",
        "Studies have compared **logistic regression, decision trees, and random forests**, showing that while tree-based models can provide slightly higher accuracy, logistic regression offers better interpretability.\n",
        "\n",
        "By analyzing **feature importance**, we will validate which factors most strongly influence loan approval decisions."
      ]
    },
    {
      "cell_type": "markdown",
      "metadata": {
        "id": "wLnh10uZK5sb"
      },
      "source": [
        "## **3. Proposed Methodology**\n",
        "The project will follow a **standard machine learning pipeline**:\n",
        "\n",
        "1. **Data Preprocessing**\n",
        "   - Handle missing values.\n",
        "   - Encode categorical variables (e.g., Employment Status).\n",
        "   - Scale numerical features (e.g., Income, Loan Amount).\n",
        "   - Create derived features like **Debt-to-Income Ratio**.\n",
        "\n",
        "2. **Model Training**\n",
        "   - Train **logistic regression** using `scikit-learn`.\n",
        "   - Split dataset into **80% training, 20% testing**.\n",
        "\n",
        "3. **Evaluation Metrics**\n",
        "   - **Accuracy, Precision, Recall, Confusion Matrix**.\n",
        "   - **ROC Curve & AUC Score** to assess model performance.\n",
        "\n",
        "### **Code**"
      ]
    },
    {
      "cell_type": "code",
      "execution_count": 1,
      "metadata": {
        "id": "gj0oLZ8EK5sb",
        "colab": {
          "base_uri": "https://localhost:8080/",
          "height": 372
        },
        "outputId": "a9a79a8a-caf1-42c6-c206-fa7bb6ded47d"
      },
      "outputs": [
        {
          "output_type": "error",
          "ename": "FileNotFoundError",
          "evalue": "[Errno 2] No such file or directory: 'loan_approval_data.csv'",
          "traceback": [
            "\u001b[0;31m---------------------------------------------------------------------------\u001b[0m",
            "\u001b[0;31mFileNotFoundError\u001b[0m                         Traceback (most recent call last)",
            "\u001b[0;32m<ipython-input-1-2f1ab8e841da>\u001b[0m in \u001b[0;36m<cell line: 0>\u001b[0;34m()\u001b[0m\n\u001b[1;32m      5\u001b[0m \u001b[0;31m# Load dataset\u001b[0m\u001b[0;34m\u001b[0m\u001b[0;34m\u001b[0m\u001b[0m\n\u001b[1;32m      6\u001b[0m \u001b[0mfile_path\u001b[0m \u001b[0;34m=\u001b[0m \u001b[0;34m'loan_approval_data.csv'\u001b[0m  \u001b[0;31m# Ensure the file is in the working directory or provide the full path\u001b[0m\u001b[0;34m\u001b[0m\u001b[0;34m\u001b[0m\u001b[0m\n\u001b[0;32m----> 7\u001b[0;31m \u001b[0mdf\u001b[0m \u001b[0;34m=\u001b[0m \u001b[0mpd\u001b[0m\u001b[0;34m.\u001b[0m\u001b[0mread_csv\u001b[0m\u001b[0;34m(\u001b[0m\u001b[0mfile_path\u001b[0m\u001b[0;34m)\u001b[0m\u001b[0;34m\u001b[0m\u001b[0;34m\u001b[0m\u001b[0m\n\u001b[0m\u001b[1;32m      8\u001b[0m \u001b[0;34m\u001b[0m\u001b[0m\n\u001b[1;32m      9\u001b[0m \u001b[0;31m# Display the first few rows\u001b[0m\u001b[0;34m\u001b[0m\u001b[0;34m\u001b[0m\u001b[0m\n",
            "\u001b[0;32m/usr/local/lib/python3.11/dist-packages/pandas/io/parsers/readers.py\u001b[0m in \u001b[0;36mread_csv\u001b[0;34m(filepath_or_buffer, sep, delimiter, header, names, index_col, usecols, dtype, engine, converters, true_values, false_values, skipinitialspace, skiprows, skipfooter, nrows, na_values, keep_default_na, na_filter, verbose, skip_blank_lines, parse_dates, infer_datetime_format, keep_date_col, date_parser, date_format, dayfirst, cache_dates, iterator, chunksize, compression, thousands, decimal, lineterminator, quotechar, quoting, doublequote, escapechar, comment, encoding, encoding_errors, dialect, on_bad_lines, delim_whitespace, low_memory, memory_map, float_precision, storage_options, dtype_backend)\u001b[0m\n\u001b[1;32m   1024\u001b[0m     \u001b[0mkwds\u001b[0m\u001b[0;34m.\u001b[0m\u001b[0mupdate\u001b[0m\u001b[0;34m(\u001b[0m\u001b[0mkwds_defaults\u001b[0m\u001b[0;34m)\u001b[0m\u001b[0;34m\u001b[0m\u001b[0;34m\u001b[0m\u001b[0m\n\u001b[1;32m   1025\u001b[0m \u001b[0;34m\u001b[0m\u001b[0m\n\u001b[0;32m-> 1026\u001b[0;31m     \u001b[0;32mreturn\u001b[0m \u001b[0m_read\u001b[0m\u001b[0;34m(\u001b[0m\u001b[0mfilepath_or_buffer\u001b[0m\u001b[0;34m,\u001b[0m \u001b[0mkwds\u001b[0m\u001b[0;34m)\u001b[0m\u001b[0;34m\u001b[0m\u001b[0;34m\u001b[0m\u001b[0m\n\u001b[0m\u001b[1;32m   1027\u001b[0m \u001b[0;34m\u001b[0m\u001b[0m\n\u001b[1;32m   1028\u001b[0m \u001b[0;34m\u001b[0m\u001b[0m\n",
            "\u001b[0;32m/usr/local/lib/python3.11/dist-packages/pandas/io/parsers/readers.py\u001b[0m in \u001b[0;36m_read\u001b[0;34m(filepath_or_buffer, kwds)\u001b[0m\n\u001b[1;32m    618\u001b[0m \u001b[0;34m\u001b[0m\u001b[0m\n\u001b[1;32m    619\u001b[0m     \u001b[0;31m# Create the parser.\u001b[0m\u001b[0;34m\u001b[0m\u001b[0;34m\u001b[0m\u001b[0m\n\u001b[0;32m--> 620\u001b[0;31m     \u001b[0mparser\u001b[0m \u001b[0;34m=\u001b[0m \u001b[0mTextFileReader\u001b[0m\u001b[0;34m(\u001b[0m\u001b[0mfilepath_or_buffer\u001b[0m\u001b[0;34m,\u001b[0m \u001b[0;34m**\u001b[0m\u001b[0mkwds\u001b[0m\u001b[0;34m)\u001b[0m\u001b[0;34m\u001b[0m\u001b[0;34m\u001b[0m\u001b[0m\n\u001b[0m\u001b[1;32m    621\u001b[0m \u001b[0;34m\u001b[0m\u001b[0m\n\u001b[1;32m    622\u001b[0m     \u001b[0;32mif\u001b[0m \u001b[0mchunksize\u001b[0m \u001b[0;32mor\u001b[0m \u001b[0miterator\u001b[0m\u001b[0;34m:\u001b[0m\u001b[0;34m\u001b[0m\u001b[0;34m\u001b[0m\u001b[0m\n",
            "\u001b[0;32m/usr/local/lib/python3.11/dist-packages/pandas/io/parsers/readers.py\u001b[0m in \u001b[0;36m__init__\u001b[0;34m(self, f, engine, **kwds)\u001b[0m\n\u001b[1;32m   1618\u001b[0m \u001b[0;34m\u001b[0m\u001b[0m\n\u001b[1;32m   1619\u001b[0m         \u001b[0mself\u001b[0m\u001b[0;34m.\u001b[0m\u001b[0mhandles\u001b[0m\u001b[0;34m:\u001b[0m \u001b[0mIOHandles\u001b[0m \u001b[0;34m|\u001b[0m \u001b[0;32mNone\u001b[0m \u001b[0;34m=\u001b[0m \u001b[0;32mNone\u001b[0m\u001b[0;34m\u001b[0m\u001b[0;34m\u001b[0m\u001b[0m\n\u001b[0;32m-> 1620\u001b[0;31m         \u001b[0mself\u001b[0m\u001b[0;34m.\u001b[0m\u001b[0m_engine\u001b[0m \u001b[0;34m=\u001b[0m \u001b[0mself\u001b[0m\u001b[0;34m.\u001b[0m\u001b[0m_make_engine\u001b[0m\u001b[0;34m(\u001b[0m\u001b[0mf\u001b[0m\u001b[0;34m,\u001b[0m \u001b[0mself\u001b[0m\u001b[0;34m.\u001b[0m\u001b[0mengine\u001b[0m\u001b[0;34m)\u001b[0m\u001b[0;34m\u001b[0m\u001b[0;34m\u001b[0m\u001b[0m\n\u001b[0m\u001b[1;32m   1621\u001b[0m \u001b[0;34m\u001b[0m\u001b[0m\n\u001b[1;32m   1622\u001b[0m     \u001b[0;32mdef\u001b[0m \u001b[0mclose\u001b[0m\u001b[0;34m(\u001b[0m\u001b[0mself\u001b[0m\u001b[0;34m)\u001b[0m \u001b[0;34m->\u001b[0m \u001b[0;32mNone\u001b[0m\u001b[0;34m:\u001b[0m\u001b[0;34m\u001b[0m\u001b[0;34m\u001b[0m\u001b[0m\n",
            "\u001b[0;32m/usr/local/lib/python3.11/dist-packages/pandas/io/parsers/readers.py\u001b[0m in \u001b[0;36m_make_engine\u001b[0;34m(self, f, engine)\u001b[0m\n\u001b[1;32m   1878\u001b[0m                 \u001b[0;32mif\u001b[0m \u001b[0;34m\"b\"\u001b[0m \u001b[0;32mnot\u001b[0m \u001b[0;32min\u001b[0m \u001b[0mmode\u001b[0m\u001b[0;34m:\u001b[0m\u001b[0;34m\u001b[0m\u001b[0;34m\u001b[0m\u001b[0m\n\u001b[1;32m   1879\u001b[0m                     \u001b[0mmode\u001b[0m \u001b[0;34m+=\u001b[0m \u001b[0;34m\"b\"\u001b[0m\u001b[0;34m\u001b[0m\u001b[0;34m\u001b[0m\u001b[0m\n\u001b[0;32m-> 1880\u001b[0;31m             self.handles = get_handle(\n\u001b[0m\u001b[1;32m   1881\u001b[0m                 \u001b[0mf\u001b[0m\u001b[0;34m,\u001b[0m\u001b[0;34m\u001b[0m\u001b[0;34m\u001b[0m\u001b[0m\n\u001b[1;32m   1882\u001b[0m                 \u001b[0mmode\u001b[0m\u001b[0;34m,\u001b[0m\u001b[0;34m\u001b[0m\u001b[0;34m\u001b[0m\u001b[0m\n",
            "\u001b[0;32m/usr/local/lib/python3.11/dist-packages/pandas/io/common.py\u001b[0m in \u001b[0;36mget_handle\u001b[0;34m(path_or_buf, mode, encoding, compression, memory_map, is_text, errors, storage_options)\u001b[0m\n\u001b[1;32m    871\u001b[0m         \u001b[0;32mif\u001b[0m \u001b[0mioargs\u001b[0m\u001b[0;34m.\u001b[0m\u001b[0mencoding\u001b[0m \u001b[0;32mand\u001b[0m \u001b[0;34m\"b\"\u001b[0m \u001b[0;32mnot\u001b[0m \u001b[0;32min\u001b[0m \u001b[0mioargs\u001b[0m\u001b[0;34m.\u001b[0m\u001b[0mmode\u001b[0m\u001b[0;34m:\u001b[0m\u001b[0;34m\u001b[0m\u001b[0;34m\u001b[0m\u001b[0m\n\u001b[1;32m    872\u001b[0m             \u001b[0;31m# Encoding\u001b[0m\u001b[0;34m\u001b[0m\u001b[0;34m\u001b[0m\u001b[0m\n\u001b[0;32m--> 873\u001b[0;31m             handle = open(\n\u001b[0m\u001b[1;32m    874\u001b[0m                 \u001b[0mhandle\u001b[0m\u001b[0;34m,\u001b[0m\u001b[0;34m\u001b[0m\u001b[0;34m\u001b[0m\u001b[0m\n\u001b[1;32m    875\u001b[0m                 \u001b[0mioargs\u001b[0m\u001b[0;34m.\u001b[0m\u001b[0mmode\u001b[0m\u001b[0;34m,\u001b[0m\u001b[0;34m\u001b[0m\u001b[0;34m\u001b[0m\u001b[0m\n",
            "\u001b[0;31mFileNotFoundError\u001b[0m: [Errno 2] No such file or directory: 'loan_approval_data.csv'"
          ]
        }
      ],
      "source": [
        "# Import necessary libraries\n",
        "import pandas as pd\n",
        "import numpy as np\n",
        "\n",
        "# Load dataset\n",
        "file_path = 'loan_approval_data.csv'  # Ensure the file is in the working directory or provide the full path\n",
        "df = pd.read_csv(file_path)\n",
        "\n",
        "# Display the first few rows\n",
        "print(\"Dataset Preview:\")\n",
        "display(df.head())\n",
        "\n",
        "# Basic information about dataset\n",
        "print(\"\\nDataset Info:\")\n",
        "df.info()\n",
        "\n",
        "# Check for missing values\n",
        "print(\"\\nMissing Values:\")\n",
        "print(df.isnull().sum())\n",
        "\n",
        "# Handle missing values - Fill numerical columns with median, categorical with mode\n",
        "for col in df.columns:\n",
        "    if df[col].dtype == 'object':  # Categorical columns\n",
        "        df[col].fillna(df[col].mode()[0], inplace=True)\n",
        "    else:  # Numerical columns\n",
        "        df[col].fillna(df[col].median(), inplace=True)\n",
        "\n",
        "# Encode categorical variables using one-hot encoding\n",
        "df = pd.get_dummies(df, drop_first=True)\n",
        "\n",
        "# Summary statistics\n",
        "print(\"\\nSummary Statistics:\")\n",
        "display(df.describe())\n",
        "\n",
        "# Save the cleaned dataset\n",
        "df.to_csv(\"loan_approval_data_cleaned.csv\", index=False)\n",
        "print(\"\\nPreprocessed dataset saved as 'loan_approval_data_cleaned.csv'.\")\n"
      ]
    },
    {
      "cell_type": "markdown",
      "metadata": {
        "id": "ELBMUWYEK5sc"
      },
      "source": [
        "## **4. Experiment Setup**\n",
        "### **Dataset & Features**\n",
        "- **Input Features:** Credit Score, Income, Loan Amount, Loan Term, Employment Status.\n",
        "- **Target:** Loan Approval (Binary: Approved = 1, Rejected = 0).\n",
        "\n",
        "### **Tools & Libraries**\n",
        "- `pandas` and `numpy` for data processing.\n",
        "- `scikit-learn` for model training and evaluation.\n",
        "- `matplotlib` and `seaborn` for visualization.\n",
        "\n",
        "### **Workflow**\n",
        "1. **Exploratory Data Analysis (EDA)**: Check distributions and relationships.\n",
        "2. **Feature Engineering**: Transform categorical features, normalize numeric features.\n",
        "3. **Model Training**: Fit logistic regression model.\n",
        "4. **Evaluation**: Compute accuracy, precision, recall, confusion matrix, and ROC curve."
      ]
    },
    {
      "cell_type": "code",
      "execution_count": null,
      "metadata": {
        "id": "qqRDeHUIK5sc"
      },
      "outputs": [],
      "source": [
        "# Import required libraries\n",
        "from sklearn.model_selection import train_test_split\n",
        "from sklearn.preprocessing import StandardScaler\n",
        "\n",
        "# Define target variable and features\n",
        "target_column = 'Loan_Status'  # Ensure this matches the actual column name in the dataset\n",
        "\n",
        "# Verify if the target column exists\n",
        "if target_column in df.columns:\n",
        "    X = df.drop(columns=[target_column])  # Features\n",
        "    y = df[target_column]  # Target variable\n",
        "else:\n",
        "    raise ValueError(f\"Target column '{target_column}' not found in dataset.\")\n",
        "\n",
        "# Perform train-test split (80% training, 20% testing)\n",
        "X_train, X_test, y_train, y_test = train_test_split(\n",
        "    X, y, test_size=0.2, random_state=42, stratify=y\n",
        ")\n",
        "\n",
        "# Standardize numerical features for better model performance\n",
        "scaler = StandardScaler()\n",
        "numerical_cols = X_train.select_dtypes(include=['float64', 'int64']).columns\n",
        "\n",
        "X_train[numerical_cols] = scaler.fit_transform(X_train[numerical_cols])\n",
        "X_test[numerical_cols] = scaler.transform(X_test[numerical_cols])\n",
        "\n",
        "print(f\"Training data shape: {X_train.shape}, Testing data shape: {X_test.shape}\")"
      ]
    },
    {
      "cell_type": "markdown",
      "metadata": {
        "id": "qeNRHGACK5sc"
      },
      "source": [
        "## **5. Expected Results**\n",
        "- The **logistic regression model** should achieve an **accuracy between 80-85%**.\n",
        "- **Credit Score and Income** will likely be the most influential features.\n",
        "- The **Confusion Matrix** will help analyze false approvals and false rejections.\n",
        "- **ROC Curve & AUC Score** should confirm strong classification ability.\n",
        "\n",
        "If the dataset is imbalanced, we may adjust the decision threshold or use class weighting to improve precision and recall.\n"
      ]
    },
    {
      "cell_type": "code",
      "execution_count": null,
      "metadata": {
        "id": "6BpgBI4HK5sc"
      },
      "outputs": [],
      "source": [
        "# Import required libraries\n",
        "from sklearn.linear_model import LogisticRegression\n",
        "from sklearn.metrics import (\n",
        "    accuracy_score, precision_score, recall_score, f1_score, roc_auc_score,\n",
        "    confusion_matrix, classification_report\n",
        ")\n",
        "from sklearn.model_selection import GridSearchCV\n",
        "\n",
        "# Define logistic regression model\n",
        "log_reg = LogisticRegression(solver='liblinear', max_iter=1000, random_state=42)\n",
        "\n",
        "# Perform hyperparameter tuning using GridSearchCV\n",
        "param_grid = {'C': [0.01, 0.1, 1, 10, 100]}  # Regularization strength\n",
        "grid_search = GridSearchCV(log_reg, param_grid, cv=5, scoring='accuracy', n_jobs=-1)\n",
        "grid_search.fit(X_train, y_train)\n",
        "\n",
        "# Best model from GridSearchCV\n",
        "best_model = grid_search.best_estimator_\n",
        "\n",
        "# Make predictions on the test set\n",
        "y_pred = best_model.predict(X_test)\n",
        "\n",
        "# Compute evaluation metrics\n",
        "accuracy = accuracy_score(y_test, y_pred)\n",
        "precision = precision_score(y_test, y_pred)\n",
        "recall = recall_score(y_test, y_pred)\n",
        "f1 = f1_score(y_test, y_pred)\n",
        "roc_auc = roc_auc_score(y_test, y_pred)\n",
        "\n",
        "# Display model performance\n",
        "print(f\"Best Hyperparameter (C): {grid_search.best_params_['C']}\")\n",
        "print(f\"Accuracy: {accuracy:.2f}\")\n",
        "print(f\"Precision: {precision:.2f}\")\n",
        "print(f\"Recall: {recall:.2f}\")\n",
        "print(f\"F1 Score: {f1:.2f}\")\n",
        "print(f\"ROC AUC Score: {roc_auc:.2f}\")\n",
        "\n",
        "# Print classification report\n",
        "print(\"\\nClassification Report:\\n\", classification_report(y_test, y_pred))\n",
        "\n",
        "# Confusion matrix\n",
        "conf_matrix = confusion_matrix(y_test, y_pred)\n",
        "print(\"\\nConfusion Matrix:\\n\", conf_matrix)"
      ]
    },
    {
      "cell_type": "markdown",
      "metadata": {
        "id": "JURzNTypK5sc"
      },
      "source": [
        "## **Conclusion**\n",
        "This project aims to **demonstrate how logistic regression can be used to predict loan approvals**. The final deliverable will include:\n",
        "- A **trained logistic regression model**.\n",
        "- **Evaluation metrics and visualizations** (Confusion Matrix, ROC Curve).\n",
        "- **Insights on the most important features** affecting loan approval.\n",
        "\n",
        "Since this is an **individual project**, all tasks will be handled independently by myself."
      ]
    }
  ],
  "metadata": {
    "colab": {
      "provenance": [],
      "include_colab_link": true
    },
    "kernelspec": {
      "display_name": "Python 3 (ipykernel)",
      "language": "python",
      "name": "python3"
    },
    "language_info": {
      "codemirror_mode": {
        "name": "ipython",
        "version": 3
      },
      "file_extension": ".py",
      "mimetype": "text/x-python",
      "name": "python",
      "nbconvert_exporter": "python",
      "pygments_lexer": "ipython3",
      "version": "3.12.4"
    }
  },
  "nbformat": 4,
  "nbformat_minor": 0
}