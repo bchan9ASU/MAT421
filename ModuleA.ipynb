{
 "cells": [
  {
   "cell_type": "markdown",
   "id": "4ae0e8f7-1e02-498f-b383-0892ced40009",
   "metadata": {},
   "source": [
    "Base-N and Binary\n",
    "Binary (base-2) is the number system used by computers, while we typically use decimal (base-10). Let's explore conversions between different bases:"
   ]
  },
  {
   "cell_type": "code",
   "execution_count": 2,
   "id": "48cfc5af-d740-4d91-8f00-79481c40c204",
   "metadata": {},
   "outputs": [
    {
     "name": "stdout",
     "output_type": "stream",
     "text": [
      "42 in binary is 0b101010\n",
      "101010 in decimal is 42\n",
      "2A in hexadecimal is 42 in decimal\n",
      "52 in octal is 42 in decimal\n"
     ]
    }
   ],
   "source": [
    "# Decimal to binary conversion\n",
    "decimal_num = 42\n",
    "binary_num = bin(decimal_num)\n",
    "print(f\"{decimal_num} in binary is {binary_num}\")\n",
    "\n",
    "# Binary to decimal conversion  \n",
    "binary_str = \"101010\"\n",
    "decimal_num = int(binary_str, 2)\n",
    "print(f\"{binary_str} in decimal is {decimal_num}\")\n",
    "\n",
    "# Custom base conversion function\n",
    "def base_n_to_decimal(num_str, base):\n",
    "    return int(num_str, base)\n",
    "\n",
    "# Convert hexadecimal to decimal\n",
    "hex_num = \"2A\"\n",
    "decimal_num = base_n_to_decimal(hex_num, 16)\n",
    "print(f\"{hex_num} in hexadecimal is {decimal_num} in decimal\")\n",
    "\n",
    "# Convert octal to decimal \n",
    "octal_num = \"52\"\n",
    "decimal_num = base_n_to_decimal(octal_num, 8)\n",
    "print(f\"{octal_num} in octal is {decimal_num} in decimal\")"
   ]
  },
  {
   "cell_type": "markdown",
   "id": "237d15db-3cb6-40c9-ae07-37feccba4e98",
   "metadata": {},
   "source": [
    "Floating Point Numbers\r\n",
    "Floating point numbers in Python use binary fractions to represent decimal values, which can lead to some unexpected behavior\r\n"
   ]
  },
  {
   "cell_type": "code",
   "execution_count": 4,
   "id": "3014e4d9-32ec-43cb-89e4-9d9fcb9fb84a",
   "metadata": {},
   "outputs": [
    {
     "name": "stdout",
     "output_type": "stream",
     "text": [
      "Float info: sys.float_info(max=1.7976931348623157e+308, max_exp=1024, max_10_exp=308, min=2.2250738585072014e-308, min_exp=-1021, min_10_exp=-307, dig=15, mant_dig=53, epsilon=2.220446049250313e-16, radix=2, rounds=1)\n",
      "0.1 + 0.2 == 0.3: False\n",
      "0.1 + 0.2: 0.30000000000000004\n",
      "Largest float: 1.7976931348623157e+308\n",
      "Smallest positive float: 2.2250738585072014e-308\n",
      "Infinity: inf\n",
      "Not a Number (NaN): nan\n"
     ]
    }
   ],
   "source": [
    "import sys\n",
    "\n",
    "# Examine float properties\n",
    "print(f\"Float info: {sys.float_info}\")\n",
    "\n",
    "# Floating point precision\n",
    "a = 0.1 + 0.2\n",
    "b = 0.3\n",
    "print(f\"0.1 + 0.2 == 0.3: {a == b}\")\n",
    "print(f\"0.1 + 0.2: {a:.17f}\")\n",
    "\n",
    "# Largest and smallest floats\n",
    "print(f\"Largest float: {sys.float_info.max}\")\n",
    "print(f\"Smallest positive float: {sys.float_info.min}\")\n",
    "\n",
    "# Special float values\n",
    "import math\n",
    "print(f\"Infinity: {math.inf}\")\n",
    "print(f\"Not a Number (NaN): {math.nan}\")"
   ]
  },
  {
   "cell_type": "markdown",
   "id": "76b80c74-3296-4f2a-af5d-cd31e468effc",
   "metadata": {},
   "source": [
    "Round-off Errors\n",
    "Round-off errors occur due to the limitations of floating point representation:"
   ]
  },
  {
   "cell_type": "code",
   "execution_count": 6,
   "id": "5c97b276-564d-4144-bde0-aeef57a55704",
   "metadata": {},
   "outputs": [
    {
     "name": "stdout",
     "output_type": "stream",
     "text": [
      "0.1 + 0.1 + 0.1 == 0.3: False\n",
      "0.1 + 0.1 + 0.1: 0.30000000000000004\n",
      "Sum of 0.1 1000 times: 99.9999999999986\n",
      "Expected sum: 100\n",
      "Sum using Decimal: 100.0\n",
      "1.2 - 1.0: 0.19999999999999996\n",
      "Rounded result: 0.2\n"
     ]
    }
   ],
   "source": [
    "import math\n",
    "from decimal import Decimal, getcontext\n",
    "\n",
    "# Demonstrating round-off errors\n",
    "print(f\"0.1 + 0.1 + 0.1 == 0.3: {0.1 + 0.1 + 0.1 == 0.3}\")\n",
    "print(f\"0.1 + 0.1 + 0.1: {0.1 + 0.1 + 0.1:.17f}\")\n",
    "\n",
    "# Accumulation of errors\n",
    "total = 0\n",
    "for i in range(1000):\n",
    "    total += 0.1\n",
    "print(f\"Sum of 0.1 1000 times: {total}\")\n",
    "print(f\"Expected sum: {100}\")\n",
    "\n",
    "# Mitigation using decimal module\n",
    "getcontext().prec = 30  # Set precision\n",
    "\n",
    "decimal_sum = sum(Decimal('0.1') for _ in range(1000))\n",
    "print(f\"Sum using Decimal: {decimal_sum}\")\n",
    "\n",
    "# Rounding to avoid errors\n",
    "a = 1.2 - 1.0\n",
    "print(f\"1.2 - 1.0: {a}\")\n",
    "print(f\"Rounded result: {round(a, 1)}\")"
   ]
  }
 ],
 "metadata": {
  "kernelspec": {
   "display_name": "Python 3 (ipykernel)",
   "language": "python",
   "name": "python3"
  },
  "language_info": {
   "codemirror_mode": {
    "name": "ipython",
    "version": 3
   },
   "file_extension": ".py",
   "mimetype": "text/x-python",
   "name": "python",
   "nbconvert_exporter": "python",
   "pygments_lexer": "ipython3",
   "version": "3.12.4"
  }
 },
 "nbformat": 4,
 "nbformat_minor": 5
}
